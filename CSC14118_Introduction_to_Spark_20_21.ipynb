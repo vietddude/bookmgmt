{
  "cells": [
    {
      "cell_type": "markdown",
      "metadata": {
        "id": "view-in-github",
        "colab_type": "text"
      },
      "source": [
        "<a href=\"https://colab.research.google.com/github/vietddude/bookmgmt/blob/master/CSC14118_Introduction_to_Spark_20_21.ipynb\" target=\"_parent\"><img src=\"https://colab.research.google.com/assets/colab-badge.svg\" alt=\"Open In Colab\"/></a>"
      ]
    },
    {
      "cell_type": "markdown",
      "metadata": {
        "id": "epfrvqOy0XbK"
      },
      "source": [
        "# Install Java and Spark on Hadoop"
      ]
    },
    {
      "cell_type": "code",
      "execution_count": null,
      "metadata": {
        "colab": {
          "base_uri": "https://localhost:8080/"
        },
        "id": "Pf3zOXQkRf0l",
        "outputId": "5e800e9a-d334-4afa-c810-0e895f8b0796"
      },
      "outputs": [
        {
          "output_type": "stream",
          "name": "stdout",
          "text": [
            "\r0% [Working]\r            \rHit:1 http://archive.ubuntu.com/ubuntu focal InRelease\n",
            "\r0% [Waiting for headers] [Waiting for headers] [Connected to cloud.r-project.or\r                                                                               \rGet:2 http://security.ubuntu.com/ubuntu focal-security InRelease [114 kB]\n",
            "\r0% [Waiting for headers] [2 InRelease 14.2 kB/114 kB 12%] [Connected to cloud.r\r                                                                               \rGet:3 http://archive.ubuntu.com/ubuntu focal-updates InRelease [114 kB]\n",
            "\r0% [3 InRelease 12.7 kB/114 kB 11%] [2 InRelease 14.2 kB/114 kB 12%] [Connected\r                                                                               \rHit:4 https://developer.download.nvidia.com/compute/cuda/repos/ubuntu2004/x86_64  InRelease\n",
            "\r0% [3 InRelease 33.0 kB/114 kB 29%] [2 InRelease 46.0 kB/114 kB 40%] [Waiting f\r0% [3 InRelease 79.3 kB/114 kB 70%] [Waiting for headers] [Waiting for headers]\r                                                                               \r0% [Waiting for headers] [Waiting for headers]\r                                              \rGet:5 https://cloud.r-project.org/bin/linux/ubuntu focal-cran40/ InRelease [3,622 B]\n",
            "\r0% [Waiting for headers] [Waiting for headers]\r                                              \rGet:6 http://archive.ubuntu.com/ubuntu focal-backports InRelease [108 kB]\n",
            "Hit:7 http://ppa.launchpad.net/c2d4u.team/c2d4u4.0+/ubuntu focal InRelease\n",
            "Hit:8 http://ppa.launchpad.net/cran/libgit2/ubuntu focal InRelease\n",
            "Get:9 http://security.ubuntu.com/ubuntu focal-security/universe amd64 Packages [1,058 kB]\n",
            "Hit:10 http://ppa.launchpad.net/deadsnakes/ppa/ubuntu focal InRelease\n",
            "Get:11 http://archive.ubuntu.com/ubuntu focal-updates/universe amd64 Packages [1,354 kB]\n",
            "Hit:12 http://ppa.launchpad.net/graphics-drivers/ppa/ubuntu focal InRelease\n",
            "Get:13 http://archive.ubuntu.com/ubuntu focal-updates/main amd64 Packages [3,255 kB]\n",
            "Hit:14 http://ppa.launchpad.net/ubuntugis/ppa/ubuntu focal InRelease\n",
            "Fetched 6,007 kB in 2s (3,591 kB/s)\n",
            "Reading package lists... Done\n"
          ]
        }
      ],
      "source": [
        "# install java\n",
        "!apt-get update\n",
        "!apt-get install openjdk-8-jdk-headless -qq > /dev/null\n",
        "# install spark (change the version number if needed)\n",
        "!wget -q https://downloads.apache.org/spark/spark-3.3.2/spark-3.3.2-bin-hadoop3.tgz\n",
        "# unzip the spark file to the current folder\n",
        "!tar xf spark-3.3.2-bin-hadoop3.tgz"
      ]
    },
    {
      "cell_type": "code",
      "execution_count": null,
      "metadata": {
        "id": "Llc1FhGNQ3U5"
      },
      "outputs": [],
      "source": [
        "# set your spark folder to your system path environment. \n",
        "import os\n",
        "os.environ[\"JAVA_HOME\"] = \"/usr/lib/jvm/java-8-openjdk-amd64\"\n",
        "os.environ[\"SPARK_HOME\"] = \"/content/spark-3.3.2-bin-hadoop3\""
      ]
    },
    {
      "cell_type": "code",
      "execution_count": null,
      "metadata": {
        "id": "7ExFt_N8-z2m",
        "colab": {
          "base_uri": "https://localhost:8080/"
        },
        "outputId": "99764dbb-4f72-43ef-b567-53b3f07bdbf8"
      },
      "outputs": [
        {
          "output_type": "stream",
          "name": "stdout",
          "text": [
            "Looking in indexes: https://pypi.org/simple, https://us-python.pkg.dev/colab-wheels/public/simple/\n",
            "Collecting findspark\n",
            "  Downloading findspark-2.0.1-py2.py3-none-any.whl (4.4 kB)\n",
            "Installing collected packages: findspark\n",
            "Successfully installed findspark-2.0.1\n"
          ]
        }
      ],
      "source": [
        "!pip install findspark\n",
        "import findspark\n",
        "findspark.init()"
      ]
    },
    {
      "cell_type": "markdown",
      "metadata": {
        "id": "DfAmwnpt1G5p"
      },
      "source": [
        "# Create a SparkSession in Python"
      ]
    },
    {
      "cell_type": "code",
      "execution_count": null,
      "metadata": {
        "id": "ZU-oJLNVQl45"
      },
      "outputs": [],
      "source": [
        "import pyspark\n",
        "from pyspark.sql import SparkSession\n",
        "spark = SparkSession.builder.master(\"local\")\\\n",
        "          .appName(\"Introduction to Spark\")\\\n",
        "          .config(\"spark.some.config.option\", \"some-value\")\\\n",
        "          .getOrCreate()"
      ]
    },
    {
      "cell_type": "code",
      "execution_count": null,
      "metadata": {
        "id": "5B0xdV4gLh8b"
      },
      "outputs": [],
      "source": [
        "# Import necessary libraries\n",
        "from pyspark.sql.functions import col, column, expr\n",
        "from pyspark.sql import functions as f"
      ]
    },
    {
      "cell_type": "markdown",
      "metadata": {
        "id": "MPpD2OQ11RV8"
      },
      "source": [
        "# Exercise 1: Data query with Spark DataFrame\n",
        "\n",
        "---\n",
        "\n"
      ]
    },
    {
      "cell_type": "markdown",
      "metadata": {
        "id": "xdO2c34d1WWh"
      },
      "source": [
        "##0. Load the data file: movies.json"
      ]
    },
    {
      "cell_type": "code",
      "execution_count": null,
      "metadata": {
        "id": "scvJmCk73r8q",
        "colab": {
          "base_uri": "https://localhost:8080/"
        },
        "outputId": "1fa054aa-045e-4af2-e15f-1ddc4e476c34"
      },
      "outputs": [
        {
          "output_type": "stream",
          "name": "stdout",
          "text": [
            "fatal: destination path 'CSC14118' already exists and is not an empty directory.\n"
          ]
        }
      ],
      "source": [
        "!git clone https://github.com/nnthaofit/CSC14118.git"
      ]
    },
    {
      "cell_type": "code",
      "execution_count": null,
      "metadata": {
        "id": "6kNSEFq9TTmP"
      },
      "outputs": [],
      "source": [
        "df = spark.read.json(\"CSC14118/movies.json\")"
      ]
    },
    {
      "cell_type": "code",
      "execution_count": null,
      "metadata": {
        "colab": {
          "base_uri": "https://localhost:8080/"
        },
        "id": "FGo9SwIs1xJN",
        "outputId": "899f1743-10d8-4108-c330-8edc04fefec5"
      },
      "outputs": [
        {
          "output_type": "stream",
          "name": "stdout",
          "text": [
            "+-------------+--------------------+-------------------------------------------+----+\n",
            "|cast         |genres              |title                                      |year|\n",
            "+-------------+--------------------+-------------------------------------------+----+\n",
            "|[]           |[]                  |After Dark in Central Park                 |1900|\n",
            "|[]           |[]                  |Boarding School Girls' Pajama Parade       |1900|\n",
            "|[]           |[]                  |Buffalo Bill's Wild West Parad             |1900|\n",
            "|[]           |[]                  |Caught                                     |1900|\n",
            "|[]           |[]                  |Clowns Spinning Hats                       |1900|\n",
            "|[]           |[Short, Documentary]|Capture of Boer Battery by British         |1900|\n",
            "|[]           |[]                  |The Enchanted Drawing                      |1900|\n",
            "|[Paul Boyton]|[]                  |Feeding Sea Lions                          |1900|\n",
            "|[]           |[Comedy]            |How to Make a Fat Wife Out of Two Lean Ones|1900|\n",
            "|[]           |[]                  |New Life Rescue                            |1900|\n",
            "+-------------+--------------------+-------------------------------------------+----+\n",
            "only showing top 10 rows\n",
            "\n"
          ]
        }
      ],
      "source": [
        "df.show(10, truncate=False)"
      ]
    },
    {
      "cell_type": "markdown",
      "metadata": {
        "id": "3VlqG5ph3_18"
      },
      "source": [
        "## 1a. Show the schema of DataFrame that stores the movies dataset."
      ]
    },
    {
      "cell_type": "code",
      "execution_count": null,
      "metadata": {
        "colab": {
          "base_uri": "https://localhost:8080/"
        },
        "id": "GmjXJMLV3-W7",
        "outputId": "7e3632bd-f88c-4c6d-bbdf-b5eec5676f58"
      },
      "outputs": [
        {
          "output_type": "execute_result",
          "data": {
            "text/plain": [
              "StructType([StructField('cast', ArrayType(StringType(), True), True), StructField('genres', ArrayType(StringType(), True), True), StructField('title', StringType(), True), StructField('year', LongType(), True)])"
            ]
          },
          "metadata": {},
          "execution_count": 32
        }
      ],
      "source": [
        "df.schema"
      ]
    },
    {
      "cell_type": "code",
      "execution_count": null,
      "metadata": {
        "colab": {
          "base_uri": "https://localhost:8080/"
        },
        "id": "PIVBncKQ10GL",
        "outputId": "80dd0709-5908-486e-c93e-f5a7ca19873e"
      },
      "outputs": [
        {
          "output_type": "stream",
          "name": "stdout",
          "text": [
            "root\n",
            " |-- cast: array (nullable = true)\n",
            " |    |-- element: string (containsNull = true)\n",
            " |-- genres: array (nullable = true)\n",
            " |    |-- element: string (containsNull = true)\n",
            " |-- title: string (nullable = true)\n",
            " |-- year: long (nullable = true)\n",
            "\n"
          ]
        }
      ],
      "source": [
        "df.printSchema()"
      ]
    },
    {
      "cell_type": "markdown",
      "metadata": {
        "id": "Petw2zs7yKrt"
      },
      "source": [
        "## 1b. Show the number of distinct films in the dataset"
      ]
    },
    {
      "cell_type": "code",
      "execution_count": null,
      "metadata": {
        "colab": {
          "base_uri": "https://localhost:8080/"
        },
        "id": "pXvaaPoR8z6Y",
        "outputId": "5a10d13f-c70a-46f2-e147-c1cc65c9937b"
      },
      "outputs": [
        {
          "output_type": "stream",
          "name": "stdout",
          "text": [
            "+-------------+--------------------+--------------------+----+\n",
            "|         cast|              genres|               title|year|\n",
            "+-------------+--------------------+--------------------+----+\n",
            "|           []|                  []|After Dark in Cen...|1900|\n",
            "|           []|                  []|Boarding School G...|1900|\n",
            "|           []|                  []|Buffalo Bill's Wi...|1900|\n",
            "|           []|                  []|              Caught|1900|\n",
            "|           []|                  []|Clowns Spinning Hats|1900|\n",
            "|           []|[Short, Documentary]|Capture of Boer B...|1900|\n",
            "|           []|                  []|The Enchanted Dra...|1900|\n",
            "|[Paul Boyton]|                  []|   Feeding Sea Lions|1900|\n",
            "|           []|            [Comedy]|How to Make a Fat...|1900|\n",
            "|           []|                  []|     New Life Rescue|1900|\n",
            "+-------------+--------------------+--------------------+----+\n",
            "only showing top 10 rows\n",
            "\n"
          ]
        }
      ],
      "source": [
        "df.show(10)"
      ]
    },
    {
      "cell_type": "code",
      "source": [
        "df.distinct().count()"
      ],
      "metadata": {
        "colab": {
          "base_uri": "https://localhost:8080/"
        },
        "id": "OA-c8nHhhsTu",
        "outputId": "00d47df2-d59b-4d21-8b44-67359444c4c1"
      },
      "execution_count": null,
      "outputs": [
        {
          "output_type": "execute_result",
          "data": {
            "text/plain": [
              "28789"
            ]
          },
          "metadata": {},
          "execution_count": 35
        }
      ]
    },
    {
      "cell_type": "markdown",
      "metadata": {
        "id": "tRKbh8RdyYZN"
      },
      "source": [
        "## 2. Count the number of movies released during the years 2012 and 2015 (included)"
      ]
    },
    {
      "cell_type": "code",
      "execution_count": null,
      "metadata": {
        "colab": {
          "base_uri": "https://localhost:8080/"
        },
        "id": "Etasw6h-yguU",
        "outputId": "e6bcfe71-7c9b-4c78-c1bc-0d5074ad8ace"
      },
      "outputs": [
        {
          "output_type": "stream",
          "name": "stdout",
          "text": [
            "There are 1015 movies released during the years 2012 and 2015.\n"
          ]
        }
      ],
      "source": [
        "# Import the functions module\n",
        "from pyspark.sql import functions as F\n",
        "\n",
        "# Filter the movies by year\n",
        "df_filtered = df.filter((F.col(\"year\") >= 2012) & (F.col(\"year\") <= 2015))\n",
        "\n",
        "# Count the number of movies\n",
        "movie_count = df_filtered.count()\n",
        "\n",
        "# Print the result\n",
        "print(f\"There are {movie_count} movies released during the years 2012 and 2015.\")"
      ]
    },
    {
      "cell_type": "code",
      "source": [
        "df.filter(df.year>=2012).filter(df.year<=2015).count()"
      ],
      "metadata": {
        "colab": {
          "base_uri": "https://localhost:8080/"
        },
        "id": "LLPmiT-JiRms",
        "outputId": "befd6102-ecb3-45f2-f0b4-f641f3dbe4e1"
      },
      "execution_count": null,
      "outputs": [
        {
          "output_type": "execute_result",
          "data": {
            "text/plain": [
              "1015"
            ]
          },
          "metadata": {},
          "execution_count": 37
        }
      ]
    },
    {
      "cell_type": "markdown",
      "metadata": {
        "id": "o8egu2pgyg-y"
      },
      "source": [
        "## 3. Show the year in which the number of movies released is highest. One highest year is enough"
      ]
    },
    {
      "cell_type": "code",
      "source": [
        "df1 = df.groupBy(df.year).agg({\"title\":\"count\"}).withColumnRenamed('count(title)','count')\n",
        "df1.sort(df1[\"count\"].desc()).show(1)"
      ],
      "metadata": {
        "colab": {
          "base_uri": "https://localhost:8080/"
        },
        "id": "7GeQZcqZiVfA",
        "outputId": "57ff2347-dbfe-4cfe-a392-f073bfccf57f"
      },
      "execution_count": null,
      "outputs": [
        {
          "output_type": "stream",
          "name": "stdout",
          "text": [
            "+----+-----+\n",
            "|year|count|\n",
            "+----+-----+\n",
            "|1919|  634|\n",
            "+----+-----+\n",
            "only showing top 1 row\n",
            "\n"
          ]
        }
      ]
    },
    {
      "cell_type": "code",
      "execution_count": null,
      "metadata": {
        "id": "gXbf9__4yku-"
      },
      "outputs": [],
      "source": [
        "df1=df.groupBy(\"year\").count()"
      ]
    },
    {
      "cell_type": "code",
      "execution_count": null,
      "metadata": {
        "colab": {
          "base_uri": "https://localhost:8080/"
        },
        "id": "7FZl6QQqglos",
        "outputId": "ca01086b-e54f-4762-b137-a40eba9cd987"
      },
      "outputs": [
        {
          "output_type": "stream",
          "name": "stdout",
          "text": [
            "+----+-----+\n",
            "|year|count|\n",
            "+----+-----+\n",
            "|1950|  443|\n",
            "|1919|  634|\n",
            "|1936|  504|\n",
            "|1951|  429|\n",
            "|1958|  281|\n",
            "|1921|  143|\n",
            "|1983|  140|\n",
            "|1905|   35|\n",
            "|1972|  140|\n",
            "|1979|  139|\n",
            "|2007|  304|\n",
            "|1988|  292|\n",
            "|2014|  214|\n",
            "|1908|   18|\n",
            "|1986|  192|\n",
            "|1949|  351|\n",
            "|1930|  361|\n",
            "|1969|  137|\n",
            "|1964|  151|\n",
            "|1967|  127|\n",
            "+----+-----+\n",
            "only showing top 20 rows\n",
            "\n"
          ]
        }
      ],
      "source": [
        "df1.show()"
      ]
    },
    {
      "cell_type": "code",
      "execution_count": null,
      "metadata": {
        "colab": {
          "base_uri": "https://localhost:8080/"
        },
        "id": "gcxgQPR4glxw",
        "outputId": "b33e4912-367b-4f5e-a716-5abbb8ba59e2"
      },
      "outputs": [
        {
          "output_type": "stream",
          "name": "stdout",
          "text": [
            "+----+-----+\n",
            "|year|count|\n",
            "+----+-----+\n",
            "|1919|  634|\n",
            "+----+-----+\n",
            "only showing top 1 row\n",
            "\n"
          ]
        }
      ],
      "source": [
        "df1.sort(col(\"count\").desc()).show(1)"
      ]
    },
    {
      "cell_type": "code",
      "execution_count": null,
      "metadata": {
        "colab": {
          "base_uri": "https://localhost:8080/"
        },
        "id": "OpuHfGvWgl0w",
        "outputId": "5d1964bb-27ce-4c48-aed8-269eafe0d9dd"
      },
      "outputs": [
        {
          "output_type": "execute_result",
          "data": {
            "text/plain": [
              "Column<'max(count)'>"
            ]
          },
          "metadata": {},
          "execution_count": 42
        }
      ],
      "source": [
        "f.max(df1['count'])"
      ]
    },
    {
      "cell_type": "markdown",
      "metadata": {
        "id": "EHDJr3c-y0rk"
      },
      "source": [
        "## 4. Show the list of movies such that for each film, the number of actors/actresses is at least five, and the number of genres it belongs to is at most two genres."
      ]
    },
    {
      "cell_type": "code",
      "source": [
        "df.filter(f.size(df.cast)>=5).filter(f.size(df.genres)<=2).show()"
      ],
      "metadata": {
        "colab": {
          "base_uri": "https://localhost:8080/"
        },
        "id": "Sz09Q5gXkmyl",
        "outputId": "72f5df71-2e57-427c-8c6f-bc3ea4d3a589"
      },
      "execution_count": null,
      "outputs": [
        {
          "output_type": "stream",
          "name": "stdout",
          "text": [
            "+--------------------+----------------+--------------------+----+\n",
            "|                cast|          genres|               title|year|\n",
            "+--------------------+----------------+--------------------+----+\n",
            "|[Earle Foxe, Alie...|         [Drama]|  A Desperate Chance|1913|\n",
            "|[Charlotte Burton...|         [Drama]|    The Archeologist|1914|\n",
            "|[Charlotte Burton...|         [Drama]|At the Potter's W...|1914|\n",
            "|[Herbert Tracey, ...|        [Comedy]|    Back to the Farm|1914|\n",
            "|[Charlotte Burton...|              []|    The Beggar Child|1914|\n",
            "|[William Garwood,...|              []|       Billy's Rival|1914|\n",
            "|[B. Reeves Eason,...|         [Drama]| Break, Break, Break|1914|\n",
            "|[Charlotte Burton...|              []|       The Butterfly|1914|\n",
            "|[Charlotte Burton...|       [Western]|Calamity Anne's L...|1914|\n",
            "|[Charlie Chaplin,...|        [Comedy]|    The Star Boarder|1914|\n",
            "|[Sydney Ayres, Ja...|              []|A Story of Little...|1914|\n",
            "|[Sydney Ayres, Pe...|              []|The Story of the ...|1914|\n",
            "|[Charlotte Burton...|              []|    This Is th' Life|1914|\n",
            "|[Lon Chaney, Leat...|  [Crime, Drama]|   The Ace of Hearts|1921|\n",
            "|[Madge Kennedy, M...| [Comedy, Drama]|  The Purple Highway|1923|\n",
            "|[Douglas Fairbank...|              []| The Thief of Bagdad|1924|\n",
            "|[Kru, Chantui, Na...|   [Documentary]|Chang: A Drama of...|1927|\n",
            "|[H. B. Warner, An...|         [Drama]|     Sorrell and Son|1927|\n",
            "|[Sam De Grasse, V...|     [Adventure]|The Wreck of the ...|1927|\n",
            "|[Fredric March, O...|[Drama, Romance]|     Anthony Adverse|1936|\n",
            "+--------------------+----------------+--------------------+----+\n",
            "only showing top 20 rows\n",
            "\n"
          ]
        }
      ]
    },
    {
      "cell_type": "code",
      "execution_count": null,
      "metadata": {
        "colab": {
          "base_uri": "https://localhost:8080/"
        },
        "id": "np2llDo07waB",
        "outputId": "7f5dcce7-3907-4a4c-b3bb-53ef5df35a02"
      },
      "outputs": [
        {
          "output_type": "stream",
          "name": "stdout",
          "text": [
            "+----------------+\n",
            "|cast            |\n",
            "+----------------+\n",
            "|[]              |\n",
            "|[]              |\n",
            "|[]              |\n",
            "|[]              |\n",
            "|[]              |\n",
            "|[]              |\n",
            "|[]              |\n",
            "|[Paul Boyton]   |\n",
            "|[]              |\n",
            "|[]              |\n",
            "|[]              |\n",
            "|[]              |\n",
            "|[]              |\n",
            "|[]              |\n",
            "|[]              |\n",
            "|[Ching Ling Foo]|\n",
            "|[]              |\n",
            "|[]              |\n",
            "|[]              |\n",
            "|[]              |\n",
            "+----------------+\n",
            "only showing top 20 rows\n",
            "\n"
          ]
        }
      ],
      "source": [
        "df.select(\"cast\").show(truncate=False)"
      ]
    },
    {
      "cell_type": "code",
      "execution_count": null,
      "metadata": {
        "colab": {
          "base_uri": "https://localhost:8080/"
        },
        "id": "nzXkIHHnhhd-",
        "outputId": "c0340b46-041e-4f3f-efcc-2afc79c30e1e"
      },
      "outputs": [
        {
          "output_type": "stream",
          "name": "stdout",
          "text": [
            "+--------------------+----------------+--------------------+----+\n",
            "|                cast|          genres|               title|year|\n",
            "+--------------------+----------------+--------------------+----+\n",
            "|[Earle Foxe, Alie...|         [Drama]|  A Desperate Chance|1913|\n",
            "|[Charlotte Burton...|         [Drama]|    The Archeologist|1914|\n",
            "|[Charlotte Burton...|         [Drama]|At the Potter's W...|1914|\n",
            "|[Herbert Tracey, ...|        [Comedy]|    Back to the Farm|1914|\n",
            "|[Charlotte Burton...|              []|    The Beggar Child|1914|\n",
            "|[William Garwood,...|              []|       Billy's Rival|1914|\n",
            "|[B. Reeves Eason,...|         [Drama]| Break, Break, Break|1914|\n",
            "|[Charlotte Burton...|              []|       The Butterfly|1914|\n",
            "|[Charlotte Burton...|       [Western]|Calamity Anne's L...|1914|\n",
            "|[Charlie Chaplin,...|        [Comedy]|    The Star Boarder|1914|\n",
            "|[Sydney Ayres, Ja...|              []|A Story of Little...|1914|\n",
            "|[Sydney Ayres, Pe...|              []|The Story of the ...|1914|\n",
            "|[Charlotte Burton...|              []|    This Is th' Life|1914|\n",
            "|[Lon Chaney, Leat...|  [Crime, Drama]|   The Ace of Hearts|1921|\n",
            "|[Madge Kennedy, M...| [Comedy, Drama]|  The Purple Highway|1923|\n",
            "|[Douglas Fairbank...|              []| The Thief of Bagdad|1924|\n",
            "|[Kru, Chantui, Na...|   [Documentary]|Chang: A Drama of...|1927|\n",
            "|[H. B. Warner, An...|         [Drama]|     Sorrell and Son|1927|\n",
            "|[Sam De Grasse, V...|     [Adventure]|The Wreck of the ...|1927|\n",
            "|[Fredric March, O...|[Drama, Romance]|     Anthony Adverse|1936|\n",
            "+--------------------+----------------+--------------------+----+\n",
            "only showing top 20 rows\n",
            "\n"
          ]
        }
      ],
      "source": [
        "df.where((f.size(df.cast)>=5)&(f.size(df.genres)<=2)).show()"
      ]
    },
    {
      "cell_type": "markdown",
      "metadata": {
        "id": "AL5CQj1hy6_j"
      },
      "source": [
        "## 5. Show the **movies** whose names are longest"
      ]
    },
    {
      "cell_type": "code",
      "source": [
        "df.sort(f.length(df.title).desc()).show(1,truncate=False)"
      ],
      "metadata": {
        "colab": {
          "base_uri": "https://localhost:8080/"
        },
        "id": "hoJlRZwnlePB",
        "outputId": "a91a8d8f-fffa-4c8f-d142-abc6dc560e35"
      },
      "execution_count": null,
      "outputs": [
        {
          "output_type": "stream",
          "name": "stdout",
          "text": [
            "+----+------+--------------------------------------------------------------------------------------------------------------+----+\n",
            "|cast|genres|title                                                                                                         |year|\n",
            "+----+------+--------------------------------------------------------------------------------------------------------------+----+\n",
            "|[]  |[]    |Cornell-Columbia-University of Pennsylvania Boat Race at Ithaca, N.Y., Showing Lehigh Valley Observation Train|1901|\n",
            "+----+------+--------------------------------------------------------------------------------------------------------------+----+\n",
            "only showing top 1 row\n",
            "\n"
          ]
        }
      ]
    },
    {
      "cell_type": "code",
      "execution_count": null,
      "metadata": {
        "id": "d1sMv96LE2UZ",
        "outputId": "942d0bd9-8f3f-4d92-dc4b-521e6d38f06c",
        "colab": {
          "base_uri": "https://localhost:8080/"
        }
      },
      "outputs": [
        {
          "output_type": "stream",
          "name": "stdout",
          "text": [
            "+----+------+--------------------------------------------------------------------------------------------------------------+----+\n",
            "|cast|genres|title                                                                                                         |year|\n",
            "+----+------+--------------------------------------------------------------------------------------------------------------+----+\n",
            "|[]  |[]    |Cornell-Columbia-University of Pennsylvania Boat Race at Ithaca, N.Y., Showing Lehigh Valley Observation Train|1901|\n",
            "+----+------+--------------------------------------------------------------------------------------------------------------+----+\n",
            "\n"
          ]
        }
      ],
      "source": [
        "df.orderBy(f.length(col('title')).desc()).limit(1).show(truncate=False)"
      ]
    },
    {
      "cell_type": "markdown",
      "metadata": {
        "id": "pr9Pw7rdzGAo"
      },
      "source": [
        "## 6. Show the movies whose name contains the word “fighting” (case-insensitive)."
      ]
    },
    {
      "cell_type": "code",
      "source": [
        "df.filter(f.lower(df.title).contains('fighting')).show(truncate=False)"
      ],
      "metadata": {
        "colab": {
          "base_uri": "https://localhost:8080/"
        },
        "id": "oGyfHATel3UT",
        "outputId": "2d664b16-ce65-4f91-db3e-8d236030cce5"
      },
      "execution_count": null,
      "outputs": [
        {
          "output_type": "stream",
          "name": "stdout",
          "text": [
            "+------------------------------------------+---------------+-----------------------+----+\n",
            "|cast                                      |genres         |title                  |year|\n",
            "+------------------------------------------+---------------+-----------------------+----+\n",
            "|[Bessie Love, Anne Schaefer]              |[Comedy, Drama]|A Fighting Colleen     |1919|\n",
            "|[Blanche Sweet, Russell Simpson]          |[Western]      |Fighting Cressy        |1919|\n",
            "|[Harry T. Morey, Betty Blythe]            |[Drama]        |Fighting Destiny       |1919|\n",
            "|[Tom Mix, Teddy Sampson]                  |[Western]      |Fighting for Gold      |1919|\n",
            "|[Jack Perrin, Hoot Gibson, Josephine Hill]|[Western]      |The Fighting Heart     |1919|\n",
            "|[Art Acord, Mildred Moore]                |[Western]      |The Fighting Line      |1919|\n",
            "|[William Duncan, Edith Johnson]           |[Action]       |The Fighting Guide     |1922|\n",
            "|[Tom Mix, Patsy Ruth Miller]              |[Western]      |The Fighting Streak    |1922|\n",
            "|[Richard Barthelmess, Dorothy Mackaill]   |[Historical]   |The Fighting Blade     |1923|\n",
            "|[Ernest Torrence, Mary Astor]             |[Comedy]       |The Fighting Coward    |1924|\n",
            "|[Jack Hoxie, Helen Holmes]                |[Western]      |Fighting Fury          |1924|\n",
            "|[Pat O'Malley, Mary Astor]                |[Drama]        |The Fighting Adventurer|1924|\n",
            "|[Fred Thomson, Hazel Keener]              |[Western]      |The Fighting Sap       |1924|\n",
            "|[Richard Talmadge, Lorraine Eason]        |[Action]       |The Fighting Demon     |1925|\n",
            "|[Billy Sullivan, Tom McGuire]             |[Sports]       |Fighting Fate          |1925|\n",
            "|[George O'Brien, Billie Dove]             |[Drama]        |The Fighting Heart     |1925|\n",
            "|[Bob Reeves, Lew Meehan]                  |[Western]      |Fighting Luck          |1925|\n",
            "|[Bill Cody, Jean Arthur]                  |[Western]      |The Fighting Smile     |1925|\n",
            "|[William Haines, Dorothy Devore]          |[Drama]        |Fighting the Flames    |1925|\n",
            "|[William Fairbanks, Pauline Garon]        |[Action]       |Fighting Youth         |1925|\n",
            "+------------------------------------------+---------------+-----------------------+----+\n",
            "only showing top 20 rows\n",
            "\n"
          ]
        }
      ]
    },
    {
      "cell_type": "code",
      "execution_count": null,
      "metadata": {
        "id": "Dcdjzq0tWWc3",
        "colab": {
          "base_uri": "https://localhost:8080/"
        },
        "outputId": "e0e800bf-23b0-4056-da24-ecb692b3737c"
      },
      "outputs": [
        {
          "output_type": "stream",
          "name": "stdout",
          "text": [
            "+--------------------+---------------+--------------------+----+\n",
            "|                cast|         genres|               title|year|\n",
            "+--------------------+---------------+--------------------+----+\n",
            "|[Bessie Love, Ann...|[Comedy, Drama]|  A Fighting Colleen|1919|\n",
            "|[Blanche Sweet, R...|      [Western]|     Fighting Cressy|1919|\n",
            "|[Harry T. Morey, ...|        [Drama]|    Fighting Destiny|1919|\n",
            "|[Tom Mix, Teddy S...|      [Western]|   Fighting for Gold|1919|\n",
            "|[Jack Perrin, Hoo...|      [Western]|  The Fighting Heart|1919|\n",
            "|[Art Acord, Mildr...|      [Western]|   The Fighting Line|1919|\n",
            "|[William Duncan, ...|       [Action]|  The Fighting Guide|1922|\n",
            "|[Tom Mix, Patsy R...|      [Western]| The Fighting Streak|1922|\n",
            "|[Richard Barthelm...|   [Historical]|  The Fighting Blade|1923|\n",
            "|[Ernest Torrence,...|       [Comedy]| The Fighting Coward|1924|\n",
            "|[Jack Hoxie, Hele...|      [Western]|       Fighting Fury|1924|\n",
            "|[Pat O'Malley, Ma...|        [Drama]|The Fighting Adve...|1924|\n",
            "|[Fred Thomson, Ha...|      [Western]|    The Fighting Sap|1924|\n",
            "|[Richard Talmadge...|       [Action]|  The Fighting Demon|1925|\n",
            "|[Billy Sullivan, ...|       [Sports]|       Fighting Fate|1925|\n",
            "|[George O'Brien, ...|        [Drama]|  The Fighting Heart|1925|\n",
            "|[Bob Reeves, Lew ...|      [Western]|       Fighting Luck|1925|\n",
            "|[Bill Cody, Jean ...|      [Western]|  The Fighting Smile|1925|\n",
            "|[William Haines, ...|        [Drama]| Fighting the Flames|1925|\n",
            "|[William Fairbank...|       [Action]|      Fighting Youth|1925|\n",
            "+--------------------+---------------+--------------------+----+\n",
            "only showing top 20 rows\n",
            "\n"
          ]
        }
      ],
      "source": [
        "df.filter(f.lower(col('title')).contains('fighting')).show()"
      ]
    },
    {
      "cell_type": "markdown",
      "metadata": {
        "id": "qHjfLzpNzWLG"
      },
      "source": [
        "## 7. Show the list of distinct genres appearing in the dataset\n"
      ]
    },
    {
      "cell_type": "code",
      "source": [
        "df.select(f.explode(df.genres)).distinct().show()"
      ],
      "metadata": {
        "colab": {
          "base_uri": "https://localhost:8080/"
        },
        "id": "ZgWyv6nemFRV",
        "outputId": "b2cbb9bd-ec4c-4a03-bd99-455668ca7cda"
      },
      "execution_count": null,
      "outputs": [
        {
          "output_type": "stream",
          "name": "stdout",
          "text": [
            "+-------------+\n",
            "|          col|\n",
            "+-------------+\n",
            "|        Crime|\n",
            "|      Romance|\n",
            "|     Thriller|\n",
            "|      Slasher|\n",
            "|Found Footage|\n",
            "|    Adventure|\n",
            "|         Teen|\n",
            "| Martial Arts|\n",
            "|       Sports|\n",
            "|        Drama|\n",
            "|          War|\n",
            "|  Documentary|\n",
            "|       Family|\n",
            "|      Fantasy|\n",
            "|       Silent|\n",
            "|     Disaster|\n",
            "|        Legal|\n",
            "|      Mystery|\n",
            "| Supernatural|\n",
            "|     Suspense|\n",
            "+-------------+\n",
            "only showing top 20 rows\n",
            "\n"
          ]
        }
      ]
    },
    {
      "cell_type": "code",
      "execution_count": null,
      "metadata": {
        "id": "4RX0oTwVHbcY",
        "colab": {
          "base_uri": "https://localhost:8080/"
        },
        "outputId": "86828f9d-ac4b-4e1a-d180-13602c786d46"
      },
      "outputs": [
        {
          "output_type": "stream",
          "name": "stdout",
          "text": [
            "+-------------+\n",
            "|          col|\n",
            "+-------------+\n",
            "|        Crime|\n",
            "|      Romance|\n",
            "|     Thriller|\n",
            "|      Slasher|\n",
            "|Found Footage|\n",
            "|    Adventure|\n",
            "|         Teen|\n",
            "| Martial Arts|\n",
            "|       Sports|\n",
            "|        Drama|\n",
            "|          War|\n",
            "|  Documentary|\n",
            "|       Family|\n",
            "|      Fantasy|\n",
            "|       Silent|\n",
            "|     Disaster|\n",
            "|        Legal|\n",
            "|      Mystery|\n",
            "| Supernatural|\n",
            "|     Suspense|\n",
            "+-------------+\n",
            "only showing top 20 rows\n",
            "\n"
          ]
        }
      ],
      "source": [
        "df.select(f.explode(col('genres'))).distinct().show()"
      ]
    },
    {
      "cell_type": "markdown",
      "metadata": {
        "id": "MlCv5PmNzZaN"
      },
      "source": [
        "## 8. List all movies in which the actor Harrison Ford has participated."
      ]
    },
    {
      "cell_type": "code",
      "source": [
        "df.filter(f.array_contains(df.cast,\"Harrison Ford\")).show()"
      ],
      "metadata": {
        "colab": {
          "base_uri": "https://localhost:8080/"
        },
        "id": "vFyb6ZkTmad6",
        "outputId": "4105b582-1b4d-4055-cc74-ecbb23374bbd"
      },
      "execution_count": null,
      "outputs": [
        {
          "output_type": "stream",
          "name": "stdout",
          "text": [
            "+--------------------+-----------------+--------------------+----+\n",
            "|                cast|           genres|               title|year|\n",
            "+--------------------+-----------------+--------------------+----+\n",
            "|[Constance Talmad...|[Romance, Comedy]|Experimental Marr...|1919|\n",
            "|[Constance Talmad...|         [Comedy]| Happiness a la Mode|1919|\n",
            "|[Constance Talmad...|         [Comedy]|Romance and Arabella|1919|\n",
            "|[Vivian Martin, H...|         [Comedy]|      The Third Kiss|1919|\n",
            "|[Harrison Ford, C...|         [Comedy]|The Veiled Adventure|1919|\n",
            "|[Constance Talmad...|         [Comedy]|          Who Cares?|1919|\n",
            "|[Vivian Martin, H...|          [Drama]|You Never Saw Suc...|1919|\n",
            "|[Norma Talmadge, ...|          [Drama]| The Wonderful Thing|1921|\n",
            "|[Alma Rubens, Har...|        [Mystery]|      Find the Woman|1922|\n",
            "|[Constance Talmad...|          [Drama]| The Primitive Lover|1922|\n",
            "|[Norma Talmadge, ...| [Romance, Drama]|     Smilin' Through|1922|\n",
            "|[Helen Jerome Edd...|          [Drama]|     When Love Comes|1922|\n",
            "|[Marion Davies, H...|     [Historical]| Little Old New York|1923|\n",
            "|[Madge Kennedy, H...|          [Drama]|     Three Miles Out|1924|\n",
            "|[Margaret Livings...|          [Drama]|           The Wheel|1925|\n",
            "|[Marie Prevost, H...|         [Comedy]|       Almost a Lady|1926|\n",
            "|[Harrison Ford, M...|          [Drama]| Hell's Four Hundred|1926|\n",
            "|[Harrison Ford, P...|         [Comedy]|   The Nervous Wreck|1926|\n",
            "|[Marie Prevost, H...|         [Comedy]|  Up in Mabel's Room|1926|\n",
            "|[Vera Reynolds, H...|         [Comedy]|         Golf Widows|1928|\n",
            "+--------------------+-----------------+--------------------+----+\n",
            "only showing top 20 rows\n",
            "\n"
          ]
        }
      ]
    },
    {
      "cell_type": "code",
      "execution_count": null,
      "metadata": {
        "id": "GeNLgqK_zZmf",
        "colab": {
          "base_uri": "https://localhost:8080/"
        },
        "outputId": "ea5c5764-a34e-4afd-e700-c2da24ff4aef"
      },
      "outputs": [
        {
          "output_type": "stream",
          "name": "stdout",
          "text": [
            "+--------------------+-----------------+--------------------+----+\n",
            "|                cast|           genres|               title|year|\n",
            "+--------------------+-----------------+--------------------+----+\n",
            "|[Constance Talmad...|[Romance, Comedy]|Experimental Marr...|1919|\n",
            "|[Constance Talmad...|         [Comedy]| Happiness a la Mode|1919|\n",
            "|[Constance Talmad...|         [Comedy]|Romance and Arabella|1919|\n",
            "|[Vivian Martin, H...|         [Comedy]|      The Third Kiss|1919|\n",
            "|[Harrison Ford, C...|         [Comedy]|The Veiled Adventure|1919|\n",
            "|[Constance Talmad...|         [Comedy]|          Who Cares?|1919|\n",
            "|[Vivian Martin, H...|          [Drama]|You Never Saw Suc...|1919|\n",
            "|[Norma Talmadge, ...|          [Drama]| The Wonderful Thing|1921|\n",
            "|[Alma Rubens, Har...|        [Mystery]|      Find the Woman|1922|\n",
            "|[Constance Talmad...|          [Drama]| The Primitive Lover|1922|\n",
            "|[Norma Talmadge, ...| [Romance, Drama]|     Smilin' Through|1922|\n",
            "|[Helen Jerome Edd...|          [Drama]|     When Love Comes|1922|\n",
            "|[Marion Davies, H...|     [Historical]| Little Old New York|1923|\n",
            "|[Madge Kennedy, H...|          [Drama]|     Three Miles Out|1924|\n",
            "|[Margaret Livings...|          [Drama]|           The Wheel|1925|\n",
            "|[Marie Prevost, H...|         [Comedy]|       Almost a Lady|1926|\n",
            "|[Harrison Ford, M...|          [Drama]| Hell's Four Hundred|1926|\n",
            "|[Harrison Ford, P...|         [Comedy]|   The Nervous Wreck|1926|\n",
            "|[Marie Prevost, H...|         [Comedy]|  Up in Mabel's Room|1926|\n",
            "|[Vera Reynolds, H...|         [Comedy]|         Golf Widows|1928|\n",
            "+--------------------+-----------------+--------------------+----+\n",
            "only showing top 20 rows\n",
            "\n"
          ]
        }
      ],
      "source": [
        "df.filter(f.array_contains(col('cast'), 'Harrison Ford')).show()"
      ]
    },
    {
      "cell_type": "markdown",
      "metadata": {
        "id": "mlNi8cHWzZ9e"
      },
      "source": [
        "## 9. List all movies in which the actors/actresses whose names include the word “Lewis“ (case-insensitive) have participated."
      ]
    },
    {
      "cell_type": "code",
      "execution_count": null,
      "metadata": {
        "id": "35otmzNOzaHs",
        "colab": {
          "base_uri": "https://localhost:8080/"
        },
        "outputId": "cdb5edef-b510-43cb-9494-79f2cdefa4ce"
      },
      "outputs": [
        {
          "output_type": "stream",
          "name": "stdout",
          "text": [
            "+--------------------+-----------+--------------------+----+\n",
            "|                cast|     genres|               title|year|\n",
            "+--------------------+-----------+--------------------+----+\n",
            "|[Charlotte Burton...|         []|       The Butterfly|1914|\n",
            "|[Pearl White, She...|    [Drama]|The Exploits of E...|1914|\n",
            "|[Charlotte Burton...|   [Comedy]| Mein Lieber Katrina|1914|\n",
            "|[Norma Talmadge, ...|    [Drama]|      Going Straight|1916|\n",
            "|[Dorothy Gish, Ra...|    [Drama]|Gretchen the Gree...|1916|\n",
            "|[Ben Lewis, Bessi...|  [Western]|     A Sister of Six|1916|\n",
            "|[Gail Kane, Lewis...|    [Drama]| The Bride's Silence|1917|\n",
            "|    [Mitchell Lewis]|    [Drama]|Nine-Tenths of th...|1918|\n",
            "|[Mitchell Lewis, ...|    [Drama]|The Faith of the ...|1919|\n",
            "|[Mary Pickford, R...|   [Comedy]|         The Hoodlum|1919|\n",
            "|[Mitchell Lewis, ...|    [Drama]|Jacques of the Si...|1919|\n",
            "|[Mitchell Lewis, ...|    [Drama]|The Last of His P...|1919|\n",
            "|[Lewis Stone, Jan...|    [Drama]|        Man's Desire|1919|\n",
            "|[Mary Miles Minte...|   [Comedy]|   Yvonne from Paris|1919|\n",
            "|[Mitchell Lewis, ...|    [Drama]|Nine-Tenths of th...|1919|\n",
            "|[Wedgwood Nowell,...|  [Mystery]|                 813|1920|\n",
            "|[Lewis Sargent, W...|[Adventure]|    Huckleberry Finn|1920|\n",
            "|[Pauline Frederic...|    [Drama]|             Salvage|1921|\n",
            "|[Viola Dana, Ralp...|   [Comedy]|The Five Dollar Baby|1922|\n",
            "|[Estelle Taylor, ...|    [Drama]|    A Fool There Was|1922|\n",
            "+--------------------+-----------+--------------------+----+\n",
            "only showing top 20 rows\n",
            "\n"
          ]
        }
      ],
      "source": [
        "df.withColumn('cast_str', f.array_join(col('cast'), ' ')) \\\n",
        "  .filter(f.lower(col('cast_str')).contains('lewis')) \\\n",
        "  .drop('cast_str') \\\n",
        "  .show()"
      ]
    },
    {
      "cell_type": "markdown",
      "metadata": {
        "id": "891rreb8zaUX"
      },
      "source": [
        "## 10. Show top five actors/actresses that have participated in most movies."
      ]
    },
    {
      "cell_type": "code",
      "execution_count": null,
      "metadata": {
        "id": "oocCDTpjyNz0",
        "colab": {
          "base_uri": "https://localhost:8080/"
        },
        "outputId": "21ec09cf-f518-4a82-9dba-f94741c1e7f7"
      },
      "outputs": [
        {
          "output_type": "stream",
          "name": "stdout",
          "text": [
            "+----------------+-----+\n",
            "|            cast|count|\n",
            "+----------------+-----+\n",
            "|    Harold Lloyd|  190|\n",
            "|     Hoot Gibson|  142|\n",
            "|      John Wayne|  136|\n",
            "|Charles Starrett|  116|\n",
            "|    Bebe Daniels|  103|\n",
            "+----------------+-----+\n",
            "only showing top 5 rows\n",
            "\n"
          ]
        }
      ],
      "source": [
        "df1 = df.select(f.explode('cast').alias('cast'), 'title', 'year').groupby('cast').count()\n",
        "df1.sort(df1['count'].desc()).show(5)"
      ]
    },
    {
      "cell_type": "markdown",
      "metadata": {
        "id": "QWaVxJy4ctDE"
      },
      "source": [
        "# Exercise 2: RDD-based mainpulation\n",
        "\n",
        "\n",
        "*   The data is already in one ore more RDDs.\n",
        "*   You must not convert RDD to DF or use pure Python code.\n",
        "\n",
        "\n",
        "\n"
      ]
    },
    {
      "cell_type": "markdown",
      "metadata": {
        "id": "RdRrBxGt7Mxz"
      },
      "source": [
        "## 1. Consider a string s that includes only alphabetical letters and spaces. Check whether s is a palindrome (case-insensitive)."
      ]
    },
    {
      "cell_type": "code",
      "source": [
        "a = [('Aary', 1), ('had', 2), ('a', 3), ('little', 4), ('lamb', 5)]\n",
        "a.extend([('whose', 6), ('fleece', 7), ('was', 8), ('white', 9)])\n",
        "a"
      ],
      "metadata": {
        "colab": {
          "base_uri": "https://localhost:8080/"
        },
        "id": "CqMbkevlpNni",
        "outputId": "02f33527-0d99-4596-8672-0bef66e5f703"
      },
      "execution_count": null,
      "outputs": [
        {
          "output_type": "execute_result",
          "data": {
            "text/plain": [
              "[('Aary', 1),\n",
              " ('had', 2),\n",
              " ('a', 3),\n",
              " ('little', 4),\n",
              " ('lamb', 5),\n",
              " ('whose', 6),\n",
              " ('fleece', 7),\n",
              " ('was', 8),\n",
              " ('white', 9)]"
            ]
          },
          "metadata": {},
          "execution_count": 56
        }
      ]
    },
    {
      "cell_type": "code",
      "source": [
        "rdd = spark.sparkContext.parallelize(a)\n",
        "rdd.collect()"
      ],
      "metadata": {
        "colab": {
          "base_uri": "https://localhost:8080/"
        },
        "id": "2GRMrglqpVPN",
        "outputId": "f95c2246-8919-4b72-80b8-90b8e52de8c0"
      },
      "execution_count": null,
      "outputs": [
        {
          "output_type": "execute_result",
          "data": {
            "text/plain": [
              "[('Aary', 1),\n",
              " ('had', 2),\n",
              " ('a', 3),\n",
              " ('little', 4),\n",
              " ('lamb', 5),\n",
              " ('whose', 6),\n",
              " ('fleece', 7),\n",
              " ('was', 8),\n",
              " ('white', 9)]"
            ]
          },
          "metadata": {},
          "execution_count": 57
        }
      ]
    },
    {
      "cell_type": "code",
      "source": [
        "rdd.sortByKey(True,3,keyfunc=lambda k: k.lower()).collect()"
      ],
      "metadata": {
        "colab": {
          "base_uri": "https://localhost:8080/"
        },
        "id": "xZL6doNSphFN",
        "outputId": "a75c5a8c-9a8d-4c7c-8cf9-92b0f28231bd"
      },
      "execution_count": null,
      "outputs": [
        {
          "output_type": "execute_result",
          "data": {
            "text/plain": [
              "[('a', 3),\n",
              " ('Aary', 1),\n",
              " ('fleece', 7),\n",
              " ('had', 2),\n",
              " ('lamb', 5),\n",
              " ('little', 4),\n",
              " ('was', 8),\n",
              " ('white', 9),\n",
              " ('whose', 6)]"
            ]
          },
          "metadata": {},
          "execution_count": 58
        }
      ]
    },
    {
      "cell_type": "code",
      "source": [
        "rdd1 = spark.sparkContext.parallelize([12,34,12,44235,346,45,23,324,2354])\n",
        "rdd1.stats()"
      ],
      "metadata": {
        "id": "hh1s-yJjqMvg",
        "outputId": "f3e2f42d-0315-466f-a66d-4378d21f22cf",
        "colab": {
          "base_uri": "https://localhost:8080/"
        }
      },
      "execution_count": null,
      "outputs": [
        {
          "output_type": "execute_result",
          "data": {
            "text/plain": [
              "(count: 9, mean: 5265.0, stdev: 13796.228172141027, max: 44235.0, min: 12.0)"
            ]
          },
          "metadata": {},
          "execution_count": 59
        }
      ]
    },
    {
      "cell_type": "code",
      "execution_count": null,
      "metadata": {
        "id": "LC7SPmqAP-8p"
      },
      "outputs": [],
      "source": [
        "def isPalin(s):\n",
        "    # remove non-alphabetical characters and lower\n",
        "    string = ''.join(char for char in s if char.isalnum()).lower()\n",
        "    words = spark.sparkContext.parallelize(string)\n",
        "    numRange = spark.sparkContext.parallelize(range(len(string)))\n",
        "    return numRange.zip(words).sortBy(lambda pair:pair[0] * -1).values().collect() == words.collect()"
      ]
    },
    {
      "cell_type": "code",
      "execution_count": null,
      "metadata": {
        "id": "eJ3p9mYQnr0O",
        "colab": {
          "base_uri": "https://localhost:8080/"
        },
        "outputId": "57653189-734d-4a30-a7b4-cae1ea26cf00"
      },
      "outputs": [
        {
          "output_type": "stream",
          "name": "stdout",
          "text": [
            "False\n",
            "True\n",
            "False\n",
            "False\n",
            "False\n",
            "False\n"
          ]
        }
      ],
      "source": [
        "print(isPalin('Yangchen'))\n",
        "print(isPalin('Kuruk'))\n",
        "print(isPalin('Kyoshi'))\n",
        "print(isPalin('Roku'))\n",
        "print(isPalin('Aang'))\n",
        "print(isPalin('Korra'))"
      ]
    },
    {
      "cell_type": "markdown",
      "metadata": {
        "id": "mTx_x2ruc5Mi"
      },
      "source": [
        "## 2. Consider a string s that includes only alphabetical letters and spaces. Check whether s is a pangram (case-insensitive)."
      ]
    },
    {
      "cell_type": "code",
      "execution_count": null,
      "metadata": {
        "id": "nC2ifuO0Ivor"
      },
      "outputs": [],
      "source": [
        "def isPangram(s):\n",
        "    # remove non-alphabetical characters and lower\n",
        "    string = ''.join(char for char in s if char.isalnum()).lower()\n",
        "    words = spark.sparkContext.parallelize(string)\n",
        "    return len(set(words.collect())) == 26 # we're assuming this is English string."
      ]
    },
    {
      "cell_type": "code",
      "execution_count": null,
      "metadata": {
        "id": "pCDIdYCssMLn",
        "colab": {
          "base_uri": "https://localhost:8080/"
        },
        "outputId": "624b1776-3e8a-4d65-b113-3df8e13a5ac3"
      },
      "outputs": [
        {
          "output_type": "execute_result",
          "data": {
            "text/plain": [
              "True"
            ]
          },
          "metadata": {},
          "execution_count": 63
        }
      ],
      "source": [
        "isPangram('The quick brown fox jumps over the lazy dog')"
      ]
    },
    {
      "cell_type": "code",
      "execution_count": null,
      "metadata": {
        "id": "kL-yHM9fsaPJ",
        "colab": {
          "base_uri": "https://localhost:8080/"
        },
        "outputId": "e0d116af-1762-4f18-8585-5ace56632a06"
      },
      "outputs": [
        {
          "output_type": "execute_result",
          "data": {
            "text/plain": [
              "False"
            ]
          },
          "metadata": {},
          "execution_count": 64
        }
      ],
      "source": [
        "isPangram('The man who passes the sentence should swing the sword')"
      ]
    },
    {
      "cell_type": "markdown",
      "metadata": {
        "id": "_Ca0DXd4ehYY"
      },
      "source": [
        "# Exercise 3: Frequent patterns and association rules mining"
      ]
    },
    {
      "cell_type": "markdown",
      "metadata": {
        "id": "laz3Iv8mfP3_"
      },
      "source": [
        "## 0. Load the data file: foodmart.csv\n",
        "\n",
        "\n",
        "*  A record is a tuple of binary values {0, 1}, each of which denotes the presence of an item (1: bought, 0: not bought).\n",
        "\n"
      ]
    },
    {
      "cell_type": "code",
      "execution_count": null,
      "metadata": {
        "id": "rjNqqxWflRcQ",
        "colab": {
          "base_uri": "https://localhost:8080/"
        },
        "outputId": "1050fa43-b97d-4607-87e3-1a27e635b8ae"
      },
      "outputs": [
        {
          "output_type": "stream",
          "name": "stdout",
          "text": [
            "Cloning into 'CSC14118'...\n",
            "remote: Enumerating objects: 13, done.\u001b[K\n",
            "remote: Counting objects: 100% (13/13), done.\u001b[K\n",
            "remote: Compressing objects: 100% (11/11), done.\u001b[K\n",
            "remote: Total 13 (delta 0), reused 0 (delta 0), pack-reused 0\u001b[K\n",
            "Unpacking objects: 100% (13/13), 816.70 KiB | 2.12 MiB/s, done.\n"
          ]
        }
      ],
      "source": [
        "!git clone https://github.com/nnthaofit/CSC14118.git"
      ]
    },
    {
      "cell_type": "code",
      "execution_count": null,
      "metadata": {
        "id": "a-sfsk32nCRs"
      },
      "outputs": [],
      "source": [
        "df = spark.read.csv(\"CSC14118/foodmart.csv\", header = True, inferSchema = True) "
      ]
    },
    {
      "cell_type": "code",
      "source": [
        "df.show()"
      ],
      "metadata": {
        "colab": {
          "base_uri": "https://localhost:8080/"
        },
        "id": "Mw_tDCIkKo7d",
        "outputId": "433ebac8-ee02-492e-a600-cb05caf5ffa1"
      },
      "execution_count": null,
      "outputs": [
        {
          "output_type": "stream",
          "name": "stdout",
          "text": [
            "+------------+---------+-------+--------------+------+---------+----+-------+-------+------------+-----------------+------+------+-----+---------+---------------+-----+--------+------+-------------+------------------+-----------+-------+-----------+--------------+--------+----------+-----------+-----------+----+------+-----------+----------+----+-----------------+---------------+------------+-------------+----------+--------------+-----------------+---+---------+----------+--------------+--------+---------+---------+---+-----+-----+----------+----+----+---------+-------+------------+----+-------+-----------+--------+------------+-----------+-----+-------------+----------------+-----+----------------+-------+---------+------------+-------------+-------------+---------+--------+----+--------+------+------------+-------+---------+------+------------+----+----+----------+------+-------+----------------+-----+----------+----+--------------+-----+------------+----+---------+-------+----+------+\n",
            "|Acetominifen|Anchovies|Aspirin|Auto Magazines|Bagels|Batteries|Beer|Bologna|Candles|Canned Fruit|Canned Vegetables|Cereal|Cheese|Chips|Chocolate|Chocolate Candy|Clams|Cleaners|Coffee|Cold Remedies|Computer Magazines|Conditioner|Cookies|Cooking Oil|Cottage Cheese|Crackers|Deli Meats|Deli Salads|Deodorizers|Dips|Donuts|Dried Fruit|Dried Meat|Eggs|Fashion Magazines|Flavored Drinks|French Fries|Fresh Chicken|Fresh Fish|Frozen Chicken|Frozen Vegetables|Gum|Hamburger|Hard Candy|Home Magazines|Hot Dogs|Ibuprofen|Ice Cream|Jam|Jelly|Juice|Lightbulbs|Maps|Milk|Mouthwash|Muffins|Nasal Sprays|Nuts|Oysters|Pancake Mix|Pancakes|Paper Dishes|Paper Wipes|Pasta|Peanut Butter|Personal Hygiene|Pizza|Plastic Utensils|Popcorn|Popsicles|Pot Cleaners|Pot Scrubbers|Pots and Pans|Preserves|Pretzels|Rice|Sardines|Sauces|Screwdrivers|Shampoo|Shellfish|Shrimp|Sliced Bread|Soda|Soup|Sour Cream|Spices|Sponges|Sports Magazines|Sugar|Sunglasses|Tofu|Toilet Brushes|Tools|Toothbrushes|Tuna|TV Dinner|Waffles|Wine|Yogurt|\n",
            "+------------+---------+-------+--------------+------+---------+----+-------+-------+------------+-----------------+------+------+-----+---------+---------------+-----+--------+------+-------------+------------------+-----------+-------+-----------+--------------+--------+----------+-----------+-----------+----+------+-----------+----------+----+-----------------+---------------+------------+-------------+----------+--------------+-----------------+---+---------+----------+--------------+--------+---------+---------+---+-----+-----+----------+----+----+---------+-------+------------+----+-------+-----------+--------+------------+-----------+-----+-------------+----------------+-----+----------------+-------+---------+------------+-------------+-------------+---------+--------+----+--------+------+------------+-------+---------+------+------------+----+----+----------+------+-------+----------------+-----+----------+----+--------------+-----+------------+----+---------+-------+----+------+\n",
            "|           1|        0|      0|             0|     0|        0|   0|      0|      0|           0|                0|     0|     1|    0|        0|              0|    0|       0|     0|            0|                 0|          0|      0|          0|             0|       0|         0|          0|          0|   0|     0|          0|         0|   0|                0|              0|           0|            0|         0|             0|                0|  0|        0|         0|             1|       0|        0|        0|  0|    0|    0|         0|   0|   0|        0|      0|           0|   0|      0|          0|       0|           0|          0|    0|            0|               0|    0|               0|      0|        0|           0|            0|            0|        0|       0|   0|       0|     0|           0|      1|        0|     0|           0|   0|   0|         0|     0|      0|               0|    0|         0|   0|             0|    0|           0|   0|        0|      0|   0|     0|\n",
            "|           1|        0|      0|             0|     0|        0|   0|      0|      0|           0|                0|     0|     1|    0|        0|              0|    0|       0|     0|            0|                 0|          0|      0|          0|             0|       0|         0|          0|          0|   0|     0|          0|         0|   0|                0|              0|           0|            0|         0|             0|                0|  0|        0|         1|             0|       0|        0|        0|  0|    0|    0|         0|   0|   1|        0|      0|           0|   0|      0|          0|       0|           0|          0|    0|            0|               0|    0|               0|      0|        0|           0|            1|            0|        0|       0|   1|       0|     0|           0|      0|        0|     0|           0|   0|   0|         0|     0|      0|               0|    0|         0|   0|             0|    0|           0|   0|        0|      0|   0|     0|\n",
            "|           0|        0|      0|             0|     0|        0|   0|      0|      0|           0|                0|     0|     0|    0|        0|              0|    0|       0|     1|            0|                 0|          0|      0|          0|             0|       0|         0|          1|          0|   0|     0|          0|         0|   0|                0|              0|           0|            0|         0|             0|                0|  0|        0|         0|             0|       0|        0|        0|  0|    0|    0|         0|   0|   0|        0|      0|           0|   0|      0|          0|       0|           0|          0|    0|            0|               0|    0|               0|      0|        0|           0|            0|            0|        0|       0|   0|       0|     0|           0|      0|        0|     0|           0|   0|   0|         0|     0|      0|               0|    0|         0|   0|             0|    0|           0|   0|        0|      0|   0|     0|\n",
            "|           0|        0|      0|             0|     0|        0|   0|      0|      0|           0|                0|     0|     0|    0|        0|              0|    0|       0|     0|            0|                 0|          0|      0|          0|             0|       0|         0|          0|          0|   0|     0|          0|         0|   1|                0|              0|           0|            0|         0|             0|                0|  1|        0|         0|             0|       0|        0|        0|  0|    0|    0|         0|   0|   1|        0|      0|           0|   0|      0|          0|       0|           0|          0|    0|            0|               0|    0|               0|      0|        0|           0|            0|            0|        0|       0|   0|       0|     0|           0|      0|        0|     0|           0|   0|   1|         0|     0|      0|               0|    0|         0|   0|             0|    0|           0|   0|        0|      0|   0|     0|\n",
            "|           0|        0|      0|             0|     0|        0|   0|      0|      0|           0|                0|     0|     1|    0|        0|              0|    0|       0|     0|            0|                 0|          0|      0|          0|             0|       0|         0|          0|          0|   0|     0|          1|         0|   0|                0|              0|           0|            0|         0|             1|                0|  0|        0|         0|             0|       0|        0|        0|  0|    0|    0|         0|   0|   0|        0|      0|           0|   0|      0|          0|       0|           0|          0|    0|            0|               0|    0|               1|      0|        0|           0|            0|            0|        0|       0|   0|       0|     0|           0|      0|        0|     0|           0|   0|   0|         0|     0|      0|               0|    0|         0|   0|             0|    0|           0|   0|        0|      0|   0|     0|\n",
            "|           0|        0|      0|             0|     0|        0|   0|      0|      0|           0|                0|     0|     0|    0|        0|              0|    0|       0|     0|            0|                 0|          0|      0|          0|             0|       0|         0|          0|          0|   0|     0|          0|         0|   0|                0|              0|           0|            0|         0|             0|                0|  0|        0|         0|             0|       0|        0|        0|  0|    0|    0|         0|   0|   0|        0|      0|           0|   0|      0|          0|       0|           0|          0|    0|            0|               0|    0|               0|      0|        0|           0|            0|            0|        0|       0|   0|       0|     0|           0|      1|        0|     0|           0|   0|   0|         0|     0|      0|               0|    0|         0|   0|             0|    0|           0|   0|        0|      0|   0|     0|\n",
            "|           0|        0|      0|             0|     0|        0|   0|      0|      0|           0|                0|     0|     0|    0|        0|              0|    0|       0|     0|            0|                 0|          0|      0|          0|             0|       0|         0|          0|          0|   0|     0|          0|         0|   0|                0|              0|           0|            0|         0|             0|                0|  0|        0|         0|             0|       0|        0|        0|  0|    0|    0|         0|   0|   1|        0|      0|           0|   0|      0|          0|       0|           0|          1|    0|            0|               0|    0|               0|      0|        0|           0|            0|            0|        0|       0|   0|       0|     0|           0|      0|        0|     0|           0|   0|   0|         0|     0|      0|               0|    0|         0|   0|             0|    0|           0|   0|        0|      1|   0|     0|\n",
            "|           0|        0|      0|             0|     0|        0|   0|      0|      0|           0|                0|     0|     0|    0|        0|              0|    0|       0|     0|            0|                 0|          0|      0|          0|             0|       0|         0|          0|          0|   0|     1|          1|         0|   0|                0|              0|           0|            0|         0|             1|                0|  0|        0|         0|             0|       0|        0|        0|  0|    0|    0|         0|   0|   0|        0|      0|           0|   0|      0|          0|       0|           0|          0|    0|            0|               0|    0|               0|      0|        0|           0|            0|            0|        0|       0|   0|       0|     0|           0|      0|        0|     0|           0|   0|   0|         0|     0|      0|               0|    0|         0|   0|             0|    0|           0|   0|        0|      0|   0|     0|\n",
            "|           0|        0|      0|             0|     0|        0|   0|      0|      0|           0|                0|     0|     0|    0|        0|              0|    0|       0|     0|            0|                 0|          0|      0|          1|             0|       0|         0|          0|          0|   0|     0|          0|         0|   0|                0|              0|           0|            0|         0|             0|                0|  0|        1|         0|             0|       0|        0|        0|  0|    0|    0|         0|   1|   0|        0|      0|           0|   0|      0|          0|       0|           0|          0|    0|            0|               0|    0|               0|      0|        1|           0|            0|            0|        0|       0|   0|       0|     0|           0|      0|        0|     0|           0|   0|   0|         0|     0|      0|               0|    0|         0|   0|             0|    0|           0|   0|        0|      0|   0|     0|\n",
            "|           0|        0|      0|             0|     0|        0|   0|      0|      0|           0|                0|     0|     1|    0|        0|              0|    0|       0|     0|            0|                 0|          0|      0|          1|             0|       0|         0|          0|          0|   1|     0|          0|         0|   0|                0|              0|           0|            0|         0|             0|                0|  0|        0|         0|             0|       0|        0|        0|  0|    0|    0|         0|   0|   0|        0|      0|           0|   0|      0|          0|       0|           0|          0|    0|            0|               0|    0|               0|      0|        0|           0|            0|            0|        1|       0|   0|       0|     0|           0|      0|        0|     0|           0|   0|   0|         0|     0|      0|               0|    0|         0|   0|             0|    0|           0|   0|        1|      0|   0|     0|\n",
            "|           0|        0|      0|             0|     0|        0|   0|      0|      0|           0|                0|     0|     0|    0|        0|              0|    0|       0|     0|            0|                 0|          0|      0|          0|             0|       0|         0|          0|          0|   0|     0|          0|         0|   0|                0|              0|           0|            0|         0|             0|                0|  0|        0|         0|             0|       0|        0|        0|  0|    0|    0|         0|   0|   0|        0|      0|           1|   0|      0|          0|       0|           0|          0|    0|            0|               0|    0|               0|      0|        0|           0|            0|            0|        0|       0|   0|       0|     0|           0|      0|        0|     0|           0|   0|   0|         0|     0|      0|               0|    0|         0|   0|             0|    0|           0|   0|        0|      0|   0|     0|\n",
            "|           0|        0|      0|             1|     0|        0|   0|      0|      0|           0|                0|     0|     0|    0|        0|              0|    0|       0|     0|            0|                 0|          0|      0|          0|             0|       0|         0|          0|          0|   0|     0|          0|         0|   0|                0|              0|           0|            1|         0|             1|                0|  0|        0|         0|             0|       0|        0|        0|  0|    0|    0|         0|   0|   0|        0|      0|           0|   0|      0|          1|       0|           0|          0|    0|            0|               0|    0|               0|      0|        0|           0|            0|            0|        0|       0|   0|       0|     0|           0|      0|        0|     0|           0|   0|   0|         0|     0|      0|               0|    0|         0|   0|             0|    0|           0|   0|        0|      1|   0|     0|\n",
            "|           0|        0|      0|             0|     0|        0|   0|      0|      0|           0|                0|     0|     0|    0|        0|              0|    0|       0|     0|            0|                 0|          0|      0|          0|             0|       0|         0|          0|          0|   0|     1|          1|         0|   0|                0|              0|           0|            0|         0|             0|                0|  0|        0|         0|             0|       0|        0|        0|  0|    0|    0|         0|   0|   0|        0|      0|           0|   0|      0|          0|       0|           0|          0|    0|            0|               0|    0|               0|      0|        0|           0|            0|            0|        0|       0|   0|       0|     0|           0|      0|        0|     0|           0|   0|   0|         0|     0|      0|               0|    0|         0|   0|             0|    0|           0|   0|        0|      1|   0|     0|\n",
            "|           0|        0|      0|             0|     0|        0|   0|      0|      0|           0|                0|     0|     1|    0|        0|              0|    0|       0|     0|            0|                 0|          0|      0|          0|             0|       0|         0|          0|          0|   0|     0|          0|         0|   0|                0|              0|           0|            0|         0|             0|                0|  0|        0|         0|             0|       0|        0|        0|  0|    0|    0|         1|   0|   0|        0|      0|           0|   0|      0|          0|       0|           0|          0|    0|            0|               0|    0|               0|      0|        0|           0|            0|            0|        0|       0|   0|       0|     0|           0|      1|        0|     0|           0|   0|   0|         0|     0|      0|               0|    0|         0|   0|             0|    0|           0|   0|        0|      0|   0|     0|\n",
            "|           0|        0|      0|             0|     0|        0|   0|      0|      0|           0|                0|     0|     0|    0|        0|              0|    0|       0|     0|            0|                 0|          0|      0|          1|             0|       0|         0|          0|          0|   0|     0|          0|         0|   1|                0|              0|           0|            0|         0|             0|                0|  0|        0|         0|             0|       0|        0|        0|  0|    0|    0|         0|   0|   0|        0|      0|           0|   0|      0|          0|       0|           0|          0|    1|            0|               0|    1|               0|      0|        0|           0|            0|            0|        0|       0|   0|       0|     1|           0|      0|        0|     0|           0|   0|   0|         0|     0|      0|               0|    0|         1|   0|             0|    1|           0|   0|        0|      0|   0|     0|\n",
            "|           0|        0|      0|             0|     0|        0|   0|      0|      0|           0|                0|     0|     0|    0|        0|              0|    0|       0|     0|            0|                 0|          0|      0|          0|             0|       0|         0|          0|          0|   0|     0|          0|         0|   0|                0|              1|           0|            0|         0|             0|                0|  0|        0|         0|             0|       0|        0|        0|  0|    0|    0|         0|   0|   0|        0|      0|           0|   0|      0|          0|       0|           0|          0|    0|            0|               0|    0|               0|      0|        0|           0|            0|            0|        0|       0|   0|       0|     0|           0|      0|        0|     0|           0|   1|   1|         0|     0|      0|               0|    0|         0|   0|             0|    0|           0|   0|        1|      0|   0|     0|\n",
            "|           0|        0|      0|             0|     0|        0|   0|      0|      0|           0|                0|     0|     0|    0|        0|              0|    0|       0|     0|            0|                 0|          0|      0|          0|             0|       0|         0|          0|          0|   0|     0|          0|         0|   0|                0|              0|           0|            0|         0|             0|                0|  0|        0|         0|             0|       0|        0|        0|  0|    0|    0|         0|   0|   0|        0|      0|           0|   0|      0|          0|       0|           0|          0|    0|            0|               0|    0|               0|      0|        0|           0|            0|            0|        0|       0|   0|       0|     0|           0|      0|        0|     0|           0|   0|   0|         0|     0|      0|               0|    0|         0|   0|             0|    0|           0|   1|        0|      0|   0|     0|\n",
            "|           0|        0|      0|             0|     0|        0|   0|      0|      0|           0|                0|     0|     0|    0|        0|              0|    0|       0|     1|            0|                 0|          0|      0|          0|             0|       0|         0|          0|          0|   0|     0|          0|         0|   0|                0|              0|           0|            0|         0|             0|                0|  0|        1|         1|             0|       0|        0|        0|  0|    0|    0|         0|   0|   0|        0|      0|           0|   0|      0|          0|       0|           0|          0|    0|            0|               0|    0|               0|      0|        0|           0|            0|            0|        0|       0|   0|       0|     0|           0|      0|        0|     0|           0|   1|   0|         0|     0|      0|               0|    0|         0|   0|             0|    0|           0|   0|        0|      0|   0|     0|\n",
            "|           0|        0|      0|             0|     0|        0|   0|      0|      0|           0|                0|     0|     0|    0|        0|              0|    0|       0|     0|            0|                 0|          0|      0|          0|             0|       0|         0|          0|          0|   0|     0|          0|         0|   0|                0|              0|           0|            0|         0|             0|                0|  0|        0|         0|             0|       0|        1|        0|  0|    0|    0|         0|   0|   0|        0|      0|           0|   0|      0|          0|       0|           0|          0|    0|            1|               0|    0|               1|      1|        0|           0|            0|            0|        0|       0|   0|       0|     0|           0|      0|        0|     0|           0|   0|   0|         0|     0|      0|               0|    0|         0|   0|             0|    0|           0|   0|        0|      0|   0|     0|\n",
            "|           0|        0|      0|             0|     0|        0|   0|      0|      0|           0|                0|     0|     0|    1|        0|              0|    0|       0|     0|            0|                 0|          0|      0|          0|             0|       0|         0|          0|          0|   0|     0|          0|         0|   0|                0|              0|           0|            0|         0|             0|                0|  0|        0|         0|             0|       0|        0|        0|  0|    0|    1|         1|   0|   0|        1|      1|           0|   0|      0|          0|       0|           0|          0|    0|            0|               1|    0|               0|      0|        0|           0|            0|            0|        0|       0|   0|       0|     0|           0|      0|        0|     0|           0|   0|   0|         0|     0|      0|               0|    0|         0|   0|             0|    0|           0|   0|        0|      0|   0|     0|\n",
            "+------------+---------+-------+--------------+------+---------+----+-------+-------+------------+-----------------+------+------+-----+---------+---------------+-----+--------+------+-------------+------------------+-----------+-------+-----------+--------------+--------+----------+-----------+-----------+----+------+-----------+----------+----+-----------------+---------------+------------+-------------+----------+--------------+-----------------+---+---------+----------+--------------+--------+---------+---------+---+-----+-----+----------+----+----+---------+-------+------------+----+-------+-----------+--------+------------+-----------+-----+-------------+----------------+-----+----------------+-------+---------+------------+-------------+-------------+---------+--------+----+--------+------+------------+-------+---------+------+------------+----+----+----------+------+-------+----------------+-----+----------+----+--------------+-----+------------+----+---------+-------+----+------+\n",
            "only showing top 20 rows\n",
            "\n"
          ]
        }
      ]
    },
    {
      "cell_type": "markdown",
      "metadata": {
        "id": "hjV6v_qrfTmf"
      },
      "source": [
        "## 1. Convert the given data to the format required by Spark MLlib FPGrowth."
      ]
    },
    {
      "cell_type": "code",
      "execution_count": null,
      "metadata": {
        "id": "Ocs24JMY2401",
        "colab": {
          "base_uri": "https://localhost:8080/"
        },
        "outputId": "e57279bf-140f-48eb-943d-9dda4031ebc9"
      },
      "outputs": [
        {
          "output_type": "stream",
          "name": "stdout",
          "text": [
            "Looking in indexes: https://pypi.org/simple, https://us-python.pkg.dev/colab-wheels/public/simple/\n",
            "Requirement already satisfied: pyspark in /usr/local/lib/python3.10/dist-packages (3.4.0)\n",
            "Requirement already satisfied: py4j==0.10.9.7 in /usr/local/lib/python3.10/dist-packages (from pyspark) (0.10.9.7)\n"
          ]
        }
      ],
      "source": [
        "!pip install pyspark"
      ]
    },
    {
      "cell_type": "code",
      "execution_count": null,
      "metadata": {
        "id": "pu_Daydzg6qE",
        "colab": {
          "base_uri": "https://localhost:8080/",
          "height": 536
        },
        "outputId": "8dc43cd4-817a-4c84-df10-d7fa24845139"
      },
      "outputs": [
        {
          "output_type": "error",
          "ename": "IllegalArgumentException",
          "evalue": "ignored",
          "traceback": [
            "\u001b[0;31m---------------------------------------------------------------------------\u001b[0m",
            "\u001b[0;31mIllegalArgumentException\u001b[0m                  Traceback (most recent call last)",
            "\u001b[0;32m<ipython-input-30-39e179f91b77>\u001b[0m in \u001b[0;36m<cell line: 22>\u001b[0;34m()\u001b[0m\n\u001b[1;32m     20\u001b[0m \u001b[0;31m# # use FPGrowth algorithm\u001b[0m\u001b[0;34m\u001b[0m\u001b[0;34m\u001b[0m\u001b[0m\n\u001b[1;32m     21\u001b[0m \u001b[0mfp\u001b[0m \u001b[0;34m=\u001b[0m \u001b[0mFPGrowth\u001b[0m\u001b[0;34m(\u001b[0m\u001b[0mminSupport\u001b[0m\u001b[0;34m=\u001b[0m\u001b[0;36m0.5\u001b[0m\u001b[0;34m,\u001b[0m \u001b[0mnumPartitions\u001b[0m\u001b[0;34m=\u001b[0m\u001b[0;36m10\u001b[0m\u001b[0;34m,\u001b[0m \u001b[0mitemsCol\u001b[0m\u001b[0;34m=\u001b[0m\u001b[0;34m\"items\"\u001b[0m\u001b[0;34m)\u001b[0m\u001b[0;34m\u001b[0m\u001b[0;34m\u001b[0m\u001b[0m\n\u001b[0;32m---> 22\u001b[0;31m \u001b[0mmodel\u001b[0m \u001b[0;34m=\u001b[0m \u001b[0mfp\u001b[0m\u001b[0;34m.\u001b[0m\u001b[0mfit\u001b[0m\u001b[0;34m(\u001b[0m\u001b[0mtransactions\u001b[0m\u001b[0;34m)\u001b[0m\u001b[0;34m\u001b[0m\u001b[0;34m\u001b[0m\u001b[0m\n\u001b[0m\u001b[1;32m     23\u001b[0m \u001b[0;34m\u001b[0m\u001b[0m\n\u001b[1;32m     24\u001b[0m \u001b[0;31m# # print frequent itemsets\u001b[0m\u001b[0;34m\u001b[0m\u001b[0;34m\u001b[0m\u001b[0m\n",
            "\u001b[0;32m/content/spark-3.3.2-bin-hadoop3/python/pyspark/ml/base.py\u001b[0m in \u001b[0;36mfit\u001b[0;34m(self, dataset, params)\u001b[0m\n\u001b[1;32m    203\u001b[0m                 \u001b[0;32mreturn\u001b[0m \u001b[0mself\u001b[0m\u001b[0;34m.\u001b[0m\u001b[0mcopy\u001b[0m\u001b[0;34m(\u001b[0m\u001b[0mparams\u001b[0m\u001b[0;34m)\u001b[0m\u001b[0;34m.\u001b[0m\u001b[0m_fit\u001b[0m\u001b[0;34m(\u001b[0m\u001b[0mdataset\u001b[0m\u001b[0;34m)\u001b[0m\u001b[0;34m\u001b[0m\u001b[0;34m\u001b[0m\u001b[0m\n\u001b[1;32m    204\u001b[0m             \u001b[0;32melse\u001b[0m\u001b[0;34m:\u001b[0m\u001b[0;34m\u001b[0m\u001b[0;34m\u001b[0m\u001b[0m\n\u001b[0;32m--> 205\u001b[0;31m                 \u001b[0;32mreturn\u001b[0m \u001b[0mself\u001b[0m\u001b[0;34m.\u001b[0m\u001b[0m_fit\u001b[0m\u001b[0;34m(\u001b[0m\u001b[0mdataset\u001b[0m\u001b[0;34m)\u001b[0m\u001b[0;34m\u001b[0m\u001b[0;34m\u001b[0m\u001b[0m\n\u001b[0m\u001b[1;32m    206\u001b[0m         \u001b[0;32melse\u001b[0m\u001b[0;34m:\u001b[0m\u001b[0;34m\u001b[0m\u001b[0;34m\u001b[0m\u001b[0m\n\u001b[1;32m    207\u001b[0m             raise TypeError(\n",
            "\u001b[0;32m/content/spark-3.3.2-bin-hadoop3/python/pyspark/ml/wrapper.py\u001b[0m in \u001b[0;36m_fit\u001b[0;34m(self, dataset)\u001b[0m\n\u001b[1;32m    381\u001b[0m \u001b[0;34m\u001b[0m\u001b[0m\n\u001b[1;32m    382\u001b[0m     \u001b[0;32mdef\u001b[0m \u001b[0m_fit\u001b[0m\u001b[0;34m(\u001b[0m\u001b[0mself\u001b[0m\u001b[0;34m,\u001b[0m \u001b[0mdataset\u001b[0m\u001b[0;34m:\u001b[0m \u001b[0mDataFrame\u001b[0m\u001b[0;34m)\u001b[0m \u001b[0;34m->\u001b[0m \u001b[0mJM\u001b[0m\u001b[0;34m:\u001b[0m\u001b[0;34m\u001b[0m\u001b[0;34m\u001b[0m\u001b[0m\n\u001b[0;32m--> 383\u001b[0;31m         \u001b[0mjava_model\u001b[0m \u001b[0;34m=\u001b[0m \u001b[0mself\u001b[0m\u001b[0;34m.\u001b[0m\u001b[0m_fit_java\u001b[0m\u001b[0;34m(\u001b[0m\u001b[0mdataset\u001b[0m\u001b[0;34m)\u001b[0m\u001b[0;34m\u001b[0m\u001b[0;34m\u001b[0m\u001b[0m\n\u001b[0m\u001b[1;32m    384\u001b[0m         \u001b[0mmodel\u001b[0m \u001b[0;34m=\u001b[0m \u001b[0mself\u001b[0m\u001b[0;34m.\u001b[0m\u001b[0m_create_model\u001b[0m\u001b[0;34m(\u001b[0m\u001b[0mjava_model\u001b[0m\u001b[0;34m)\u001b[0m\u001b[0;34m\u001b[0m\u001b[0;34m\u001b[0m\u001b[0m\n\u001b[1;32m    385\u001b[0m         \u001b[0;32mreturn\u001b[0m \u001b[0mself\u001b[0m\u001b[0;34m.\u001b[0m\u001b[0m_copyValues\u001b[0m\u001b[0;34m(\u001b[0m\u001b[0mmodel\u001b[0m\u001b[0;34m)\u001b[0m\u001b[0;34m\u001b[0m\u001b[0;34m\u001b[0m\u001b[0m\n",
            "\u001b[0;32m/content/spark-3.3.2-bin-hadoop3/python/pyspark/ml/wrapper.py\u001b[0m in \u001b[0;36m_fit_java\u001b[0;34m(self, dataset)\u001b[0m\n\u001b[1;32m    378\u001b[0m \u001b[0;34m\u001b[0m\u001b[0m\n\u001b[1;32m    379\u001b[0m         \u001b[0mself\u001b[0m\u001b[0;34m.\u001b[0m\u001b[0m_transfer_params_to_java\u001b[0m\u001b[0;34m(\u001b[0m\u001b[0;34m)\u001b[0m\u001b[0;34m\u001b[0m\u001b[0;34m\u001b[0m\u001b[0m\n\u001b[0;32m--> 380\u001b[0;31m         \u001b[0;32mreturn\u001b[0m \u001b[0mself\u001b[0m\u001b[0;34m.\u001b[0m\u001b[0m_java_obj\u001b[0m\u001b[0;34m.\u001b[0m\u001b[0mfit\u001b[0m\u001b[0;34m(\u001b[0m\u001b[0mdataset\u001b[0m\u001b[0;34m.\u001b[0m\u001b[0m_jdf\u001b[0m\u001b[0;34m)\u001b[0m\u001b[0;34m\u001b[0m\u001b[0;34m\u001b[0m\u001b[0m\n\u001b[0m\u001b[1;32m    381\u001b[0m \u001b[0;34m\u001b[0m\u001b[0m\n\u001b[1;32m    382\u001b[0m     \u001b[0;32mdef\u001b[0m \u001b[0m_fit\u001b[0m\u001b[0;34m(\u001b[0m\u001b[0mself\u001b[0m\u001b[0;34m,\u001b[0m \u001b[0mdataset\u001b[0m\u001b[0;34m:\u001b[0m \u001b[0mDataFrame\u001b[0m\u001b[0;34m)\u001b[0m \u001b[0;34m->\u001b[0m \u001b[0mJM\u001b[0m\u001b[0;34m:\u001b[0m\u001b[0;34m\u001b[0m\u001b[0;34m\u001b[0m\u001b[0m\n",
            "\u001b[0;32m/content/spark-3.3.2-bin-hadoop3/python/lib/py4j-0.10.9.5-src.zip/py4j/java_gateway.py\u001b[0m in \u001b[0;36m__call__\u001b[0;34m(self, *args)\u001b[0m\n\u001b[1;32m   1319\u001b[0m \u001b[0;34m\u001b[0m\u001b[0m\n\u001b[1;32m   1320\u001b[0m         \u001b[0manswer\u001b[0m \u001b[0;34m=\u001b[0m \u001b[0mself\u001b[0m\u001b[0;34m.\u001b[0m\u001b[0mgateway_client\u001b[0m\u001b[0;34m.\u001b[0m\u001b[0msend_command\u001b[0m\u001b[0;34m(\u001b[0m\u001b[0mcommand\u001b[0m\u001b[0;34m)\u001b[0m\u001b[0;34m\u001b[0m\u001b[0;34m\u001b[0m\u001b[0m\n\u001b[0;32m-> 1321\u001b[0;31m         return_value = get_return_value(\n\u001b[0m\u001b[1;32m   1322\u001b[0m             answer, self.gateway_client, self.target_id, self.name)\n\u001b[1;32m   1323\u001b[0m \u001b[0;34m\u001b[0m\u001b[0m\n",
            "\u001b[0;32m/content/spark-3.3.2-bin-hadoop3/python/pyspark/sql/utils.py\u001b[0m in \u001b[0;36mdeco\u001b[0;34m(*a, **kw)\u001b[0m\n\u001b[1;32m    194\u001b[0m                 \u001b[0;31m# Hide where the exception came from that shows a non-Pythonic\u001b[0m\u001b[0;34m\u001b[0m\u001b[0;34m\u001b[0m\u001b[0m\n\u001b[1;32m    195\u001b[0m                 \u001b[0;31m# JVM exception message.\u001b[0m\u001b[0;34m\u001b[0m\u001b[0;34m\u001b[0m\u001b[0m\n\u001b[0;32m--> 196\u001b[0;31m                 \u001b[0;32mraise\u001b[0m \u001b[0mconverted\u001b[0m \u001b[0;32mfrom\u001b[0m \u001b[0;32mNone\u001b[0m\u001b[0;34m\u001b[0m\u001b[0;34m\u001b[0m\u001b[0m\n\u001b[0m\u001b[1;32m    197\u001b[0m             \u001b[0;32melse\u001b[0m\u001b[0;34m:\u001b[0m\u001b[0;34m\u001b[0m\u001b[0;34m\u001b[0m\u001b[0m\n\u001b[1;32m    198\u001b[0m                 \u001b[0;32mraise\u001b[0m\u001b[0;34m\u001b[0m\u001b[0;34m\u001b[0m\u001b[0m\n",
            "\u001b[0;31mIllegalArgumentException\u001b[0m: requirement failed: The input column must be array, but got struct<Acetominifen:bigint,Anchovies:bigint,Aspirin:bigint,Auto Magazines:bigint,Bagels:bigint,Batteries:bigint,Beer:bigint,Bologna:bigint,Candles:bigint,Canned Fruit:bigint,Canned Vegetables:bigint,Cereal:bigint,Cheese:bigint,Chips:bigint,Chocolate:bigint,Chocolate Candy:bigint,Clams:bigint,Cleaners:bigint,Coffee:bigint,Cold Remedies:bigint,Computer Magazines:bigint,Conditioner:bigint,Cookies:bigint,Cooking Oil:bigint,Cottage Cheese:bigint,Crackers:bigint,Deli Meats:bigint,Deli Salads:bigint,Deodorizers:bigint,Dips:bigint,Donuts:bigint,Dried Fruit:bigint,Dried Meat:bigint,Eggs:bigint,Fashion Magazines:bigint,Flavored Drinks:bigint,French Fries:bigint,Fresh Chicken:bigint,Fresh Fish:bigint,Frozen Chicken:bigint,Frozen Vegetables:bigint,Gum:bigint,Hamburger:bigint,Hard Candy:bigint,Home Magazines:bigint,Hot Dogs:bigint,Ibuprofen:bigint,Ice Cream:bigint,Jam:bigint,Jelly:bigint,Juice:bigint,Lightbulbs:bigint,Maps:bigint,Milk:bigint,Mouthwash:bigint,Muffins:bigint,Nasal Sprays:bigint,Nuts:bigint,Oysters:bigint,Pancake Mix:bigint,Pancakes:bigint,Paper Dishes:bigint,Paper Wipes:bigint,Pasta:bigint,Peanut Butter:bigint,Personal Hygiene:bigint,Pizza:bigint,Plastic Utensils:bigint,Popcorn:bigint,Popsicles:bigint,Pot Cleaners:bigint,Pot Scrubbers:bigint,Pots and Pans:bigint,Preserves:bigint,Pretzels:bigint,Rice:bigint,Sardines:bigint,Sauces:bigint,Screwdrivers:bigint,Shampoo:bigint,Shell..."
          ]
        }
      ],
      "source": [
        "from pyspark.sql import SparkSession\n",
        "from pyspark.ml.fpm import FPGrowth\n",
        "from pyspark.sql import Row\n",
        "\n",
        "row = Row(\"items\")\n",
        "\n",
        "\n",
        "# create Spark session\n",
        "#spark = SparkSession.builder.appName(\"FPGrowthExample\").getOrCreate()\n",
        "\n",
        "# read CSV file\n",
        "df = spark.read.csv(\"CSC14118/foodmart.csv\", header=True, inferSchema=True)\n",
        "\n",
        "# convert sets to lists\n",
        "df = df.rdd.map(lambda x: tuple(list(x))).toDF(df.columns)\n",
        "\n",
        "# transform dataframe to transactions\n",
        "transactions = df.rdd.map(row).toDF()\n",
        "\n",
        "# # use FPGrowth algorithm\n",
        "fp = FPGrowth(minSupport=0.5, numPartitions=10, itemsCol=\"items\")\n",
        "model = fp.fit(transactions)\n",
        "\n",
        "# # print frequent itemsets\n",
        "model.freqItemsets.show()"
      ]
    },
    {
      "cell_type": "code",
      "source": [
        "from pyspark.sql import Row\n",
        "row = Row(\"items\")\n",
        "transactions = df.rdd.map(row).toDF()\n",
        "transactions.show(truncate=False)"
      ],
      "metadata": {
        "colab": {
          "base_uri": "https://localhost:8080/"
        },
        "id": "zKzLiMcTHpyN",
        "outputId": "b2feba6e-626a-4ddf-a5d5-80679b85b4b7"
      },
      "execution_count": null,
      "outputs": [
        {
          "output_type": "stream",
          "name": "stdout",
          "text": [
            "+------------------------------------------------------------------------------------------------------------------------------------------------------------------------------------------------------------------------------------------------------------------------------------------------------------+\n",
            "|items                                                                                                                                                                                                                                                                                                       |\n",
            "+------------------------------------------------------------------------------------------------------------------------------------------------------------------------------------------------------------------------------------------------------------------------------------------------------------+\n",
            "|{1, 0, 0, 0, 0, 0, 0, 0, 0, 0, 0, 0, 1, 0, 0, 0, 0, 0, 0, 0, 0, 0, 0, 0, 0, 0, 0, 0, 0, 0, 0, 0, 0, 0, 0, 0, 0, 0, 0, 0, 0, 0, 0, 0, 1, 0, 0, 0, 0, 0, 0, 0, 0, 0, 0, 0, 0, 0, 0, 0, 0, 0, 0, 0, 0, 0, 0, 0, 0, 0, 0, 0, 0, 0, 0, 0, 0, 0, 0, 1, 0, 0, 0, 0, 0, 0, 0, 0, 0, 0, 0, 0, 0, 0, 0, 0, 0, 0, 0, 0}|\n",
            "|{1, 0, 0, 0, 0, 0, 0, 0, 0, 0, 0, 0, 1, 0, 0, 0, 0, 0, 0, 0, 0, 0, 0, 0, 0, 0, 0, 0, 0, 0, 0, 0, 0, 0, 0, 0, 0, 0, 0, 0, 0, 0, 0, 1, 0, 0, 0, 0, 0, 0, 0, 0, 0, 1, 0, 0, 0, 0, 0, 0, 0, 0, 0, 0, 0, 0, 0, 0, 0, 0, 0, 1, 0, 0, 0, 1, 0, 0, 0, 0, 0, 0, 0, 0, 0, 0, 0, 0, 0, 0, 0, 0, 0, 0, 0, 0, 0, 0, 0, 0}|\n",
            "|{0, 0, 0, 0, 0, 0, 0, 0, 0, 0, 0, 0, 0, 0, 0, 0, 0, 0, 1, 0, 0, 0, 0, 0, 0, 0, 0, 1, 0, 0, 0, 0, 0, 0, 0, 0, 0, 0, 0, 0, 0, 0, 0, 0, 0, 0, 0, 0, 0, 0, 0, 0, 0, 0, 0, 0, 0, 0, 0, 0, 0, 0, 0, 0, 0, 0, 0, 0, 0, 0, 0, 0, 0, 0, 0, 0, 0, 0, 0, 0, 0, 0, 0, 0, 0, 0, 0, 0, 0, 0, 0, 0, 0, 0, 0, 0, 0, 0, 0, 0}|\n",
            "|{0, 0, 0, 0, 0, 0, 0, 0, 0, 0, 0, 0, 0, 0, 0, 0, 0, 0, 0, 0, 0, 0, 0, 0, 0, 0, 0, 0, 0, 0, 0, 0, 0, 1, 0, 0, 0, 0, 0, 0, 0, 1, 0, 0, 0, 0, 0, 0, 0, 0, 0, 0, 0, 1, 0, 0, 0, 0, 0, 0, 0, 0, 0, 0, 0, 0, 0, 0, 0, 0, 0, 0, 0, 0, 0, 0, 0, 0, 0, 0, 0, 0, 0, 0, 1, 0, 0, 0, 0, 0, 0, 0, 0, 0, 0, 0, 0, 0, 0, 0}|\n",
            "|{0, 0, 0, 0, 0, 0, 0, 0, 0, 0, 0, 0, 1, 0, 0, 0, 0, 0, 0, 0, 0, 0, 0, 0, 0, 0, 0, 0, 0, 0, 0, 1, 0, 0, 0, 0, 0, 0, 0, 1, 0, 0, 0, 0, 0, 0, 0, 0, 0, 0, 0, 0, 0, 0, 0, 0, 0, 0, 0, 0, 0, 0, 0, 0, 0, 0, 0, 1, 0, 0, 0, 0, 0, 0, 0, 0, 0, 0, 0, 0, 0, 0, 0, 0, 0, 0, 0, 0, 0, 0, 0, 0, 0, 0, 0, 0, 0, 0, 0, 0}|\n",
            "|{0, 0, 0, 0, 0, 0, 0, 0, 0, 0, 0, 0, 0, 0, 0, 0, 0, 0, 0, 0, 0, 0, 0, 0, 0, 0, 0, 0, 0, 0, 0, 0, 0, 0, 0, 0, 0, 0, 0, 0, 0, 0, 0, 0, 0, 0, 0, 0, 0, 0, 0, 0, 0, 0, 0, 0, 0, 0, 0, 0, 0, 0, 0, 0, 0, 0, 0, 0, 0, 0, 0, 0, 0, 0, 0, 0, 0, 0, 0, 1, 0, 0, 0, 0, 0, 0, 0, 0, 0, 0, 0, 0, 0, 0, 0, 0, 0, 0, 0, 0}|\n",
            "|{0, 0, 0, 0, 0, 0, 0, 0, 0, 0, 0, 0, 0, 0, 0, 0, 0, 0, 0, 0, 0, 0, 0, 0, 0, 0, 0, 0, 0, 0, 0, 0, 0, 0, 0, 0, 0, 0, 0, 0, 0, 0, 0, 0, 0, 0, 0, 0, 0, 0, 0, 0, 0, 1, 0, 0, 0, 0, 0, 0, 0, 0, 1, 0, 0, 0, 0, 0, 0, 0, 0, 0, 0, 0, 0, 0, 0, 0, 0, 0, 0, 0, 0, 0, 0, 0, 0, 0, 0, 0, 0, 0, 0, 0, 0, 0, 0, 1, 0, 0}|\n",
            "|{0, 0, 0, 0, 0, 0, 0, 0, 0, 0, 0, 0, 0, 0, 0, 0, 0, 0, 0, 0, 0, 0, 0, 0, 0, 0, 0, 0, 0, 0, 1, 1, 0, 0, 0, 0, 0, 0, 0, 1, 0, 0, 0, 0, 0, 0, 0, 0, 0, 0, 0, 0, 0, 0, 0, 0, 0, 0, 0, 0, 0, 0, 0, 0, 0, 0, 0, 0, 0, 0, 0, 0, 0, 0, 0, 0, 0, 0, 0, 0, 0, 0, 0, 0, 0, 0, 0, 0, 0, 0, 0, 0, 0, 0, 0, 0, 0, 0, 0, 0}|\n",
            "|{0, 0, 0, 0, 0, 0, 0, 0, 0, 0, 0, 0, 0, 0, 0, 0, 0, 0, 0, 0, 0, 0, 0, 1, 0, 0, 0, 0, 0, 0, 0, 0, 0, 0, 0, 0, 0, 0, 0, 0, 0, 0, 1, 0, 0, 0, 0, 0, 0, 0, 0, 0, 1, 0, 0, 0, 0, 0, 0, 0, 0, 0, 0, 0, 0, 0, 0, 0, 0, 1, 0, 0, 0, 0, 0, 0, 0, 0, 0, 0, 0, 0, 0, 0, 0, 0, 0, 0, 0, 0, 0, 0, 0, 0, 0, 0, 0, 0, 0, 0}|\n",
            "|{0, 0, 0, 0, 0, 0, 0, 0, 0, 0, 0, 0, 1, 0, 0, 0, 0, 0, 0, 0, 0, 0, 0, 1, 0, 0, 0, 0, 0, 1, 0, 0, 0, 0, 0, 0, 0, 0, 0, 0, 0, 0, 0, 0, 0, 0, 0, 0, 0, 0, 0, 0, 0, 0, 0, 0, 0, 0, 0, 0, 0, 0, 0, 0, 0, 0, 0, 0, 0, 0, 0, 0, 0, 1, 0, 0, 0, 0, 0, 0, 0, 0, 0, 0, 0, 0, 0, 0, 0, 0, 0, 0, 0, 0, 0, 0, 1, 0, 0, 0}|\n",
            "|{0, 0, 0, 0, 0, 0, 0, 0, 0, 0, 0, 0, 0, 0, 0, 0, 0, 0, 0, 0, 0, 0, 0, 0, 0, 0, 0, 0, 0, 0, 0, 0, 0, 0, 0, 0, 0, 0, 0, 0, 0, 0, 0, 0, 0, 0, 0, 0, 0, 0, 0, 0, 0, 0, 0, 0, 1, 0, 0, 0, 0, 0, 0, 0, 0, 0, 0, 0, 0, 0, 0, 0, 0, 0, 0, 0, 0, 0, 0, 0, 0, 0, 0, 0, 0, 0, 0, 0, 0, 0, 0, 0, 0, 0, 0, 0, 0, 0, 0, 0}|\n",
            "|{0, 0, 0, 1, 0, 0, 0, 0, 0, 0, 0, 0, 0, 0, 0, 0, 0, 0, 0, 0, 0, 0, 0, 0, 0, 0, 0, 0, 0, 0, 0, 0, 0, 0, 0, 0, 0, 1, 0, 1, 0, 0, 0, 0, 0, 0, 0, 0, 0, 0, 0, 0, 0, 0, 0, 0, 0, 0, 0, 1, 0, 0, 0, 0, 0, 0, 0, 0, 0, 0, 0, 0, 0, 0, 0, 0, 0, 0, 0, 0, 0, 0, 0, 0, 0, 0, 0, 0, 0, 0, 0, 0, 0, 0, 0, 0, 0, 1, 0, 0}|\n",
            "|{0, 0, 0, 0, 0, 0, 0, 0, 0, 0, 0, 0, 0, 0, 0, 0, 0, 0, 0, 0, 0, 0, 0, 0, 0, 0, 0, 0, 0, 0, 1, 1, 0, 0, 0, 0, 0, 0, 0, 0, 0, 0, 0, 0, 0, 0, 0, 0, 0, 0, 0, 0, 0, 0, 0, 0, 0, 0, 0, 0, 0, 0, 0, 0, 0, 0, 0, 0, 0, 0, 0, 0, 0, 0, 0, 0, 0, 0, 0, 0, 0, 0, 0, 0, 0, 0, 0, 0, 0, 0, 0, 0, 0, 0, 0, 0, 0, 1, 0, 0}|\n",
            "|{0, 0, 0, 0, 0, 0, 0, 0, 0, 0, 0, 0, 1, 0, 0, 0, 0, 0, 0, 0, 0, 0, 0, 0, 0, 0, 0, 0, 0, 0, 0, 0, 0, 0, 0, 0, 0, 0, 0, 0, 0, 0, 0, 0, 0, 0, 0, 0, 0, 0, 0, 1, 0, 0, 0, 0, 0, 0, 0, 0, 0, 0, 0, 0, 0, 0, 0, 0, 0, 0, 0, 0, 0, 0, 0, 0, 0, 0, 0, 1, 0, 0, 0, 0, 0, 0, 0, 0, 0, 0, 0, 0, 0, 0, 0, 0, 0, 0, 0, 0}|\n",
            "|{0, 0, 0, 0, 0, 0, 0, 0, 0, 0, 0, 0, 0, 0, 0, 0, 0, 0, 0, 0, 0, 0, 0, 1, 0, 0, 0, 0, 0, 0, 0, 0, 0, 1, 0, 0, 0, 0, 0, 0, 0, 0, 0, 0, 0, 0, 0, 0, 0, 0, 0, 0, 0, 0, 0, 0, 0, 0, 0, 0, 0, 0, 0, 1, 0, 0, 1, 0, 0, 0, 0, 0, 0, 0, 0, 0, 0, 1, 0, 0, 0, 0, 0, 0, 0, 0, 0, 0, 0, 0, 1, 0, 0, 1, 0, 0, 0, 0, 0, 0}|\n",
            "|{0, 0, 0, 0, 0, 0, 0, 0, 0, 0, 0, 0, 0, 0, 0, 0, 0, 0, 0, 0, 0, 0, 0, 0, 0, 0, 0, 0, 0, 0, 0, 0, 0, 0, 0, 1, 0, 0, 0, 0, 0, 0, 0, 0, 0, 0, 0, 0, 0, 0, 0, 0, 0, 0, 0, 0, 0, 0, 0, 0, 0, 0, 0, 0, 0, 0, 0, 0, 0, 0, 0, 0, 0, 0, 0, 0, 0, 0, 0, 0, 0, 0, 0, 1, 1, 0, 0, 0, 0, 0, 0, 0, 0, 0, 0, 0, 1, 0, 0, 0}|\n",
            "|{0, 0, 0, 0, 0, 0, 0, 0, 0, 0, 0, 0, 0, 0, 0, 0, 0, 0, 0, 0, 0, 0, 0, 0, 0, 0, 0, 0, 0, 0, 0, 0, 0, 0, 0, 0, 0, 0, 0, 0, 0, 0, 0, 0, 0, 0, 0, 0, 0, 0, 0, 0, 0, 0, 0, 0, 0, 0, 0, 0, 0, 0, 0, 0, 0, 0, 0, 0, 0, 0, 0, 0, 0, 0, 0, 0, 0, 0, 0, 0, 0, 0, 0, 0, 0, 0, 0, 0, 0, 0, 0, 0, 0, 0, 0, 1, 0, 0, 0, 0}|\n",
            "|{0, 0, 0, 0, 0, 0, 0, 0, 0, 0, 0, 0, 0, 0, 0, 0, 0, 0, 1, 0, 0, 0, 0, 0, 0, 0, 0, 0, 0, 0, 0, 0, 0, 0, 0, 0, 0, 0, 0, 0, 0, 0, 1, 1, 0, 0, 0, 0, 0, 0, 0, 0, 0, 0, 0, 0, 0, 0, 0, 0, 0, 0, 0, 0, 0, 0, 0, 0, 0, 0, 0, 0, 0, 0, 0, 0, 0, 0, 0, 0, 0, 0, 0, 1, 0, 0, 0, 0, 0, 0, 0, 0, 0, 0, 0, 0, 0, 0, 0, 0}|\n",
            "|{0, 0, 0, 0, 0, 0, 0, 0, 0, 0, 0, 0, 0, 0, 0, 0, 0, 0, 0, 0, 0, 0, 0, 0, 0, 0, 0, 0, 0, 0, 0, 0, 0, 0, 0, 0, 0, 0, 0, 0, 0, 0, 0, 0, 0, 0, 1, 0, 0, 0, 0, 0, 0, 0, 0, 0, 0, 0, 0, 0, 0, 0, 0, 0, 1, 0, 0, 1, 1, 0, 0, 0, 0, 0, 0, 0, 0, 0, 0, 0, 0, 0, 0, 0, 0, 0, 0, 0, 0, 0, 0, 0, 0, 0, 0, 0, 0, 0, 0, 0}|\n",
            "|{0, 0, 0, 0, 0, 0, 0, 0, 0, 0, 0, 0, 0, 1, 0, 0, 0, 0, 0, 0, 0, 0, 0, 0, 0, 0, 0, 0, 0, 0, 0, 0, 0, 0, 0, 0, 0, 0, 0, 0, 0, 0, 0, 0, 0, 0, 0, 0, 0, 0, 1, 1, 0, 0, 1, 1, 0, 0, 0, 0, 0, 0, 0, 0, 0, 1, 0, 0, 0, 0, 0, 0, 0, 0, 0, 0, 0, 0, 0, 0, 0, 0, 0, 0, 0, 0, 0, 0, 0, 0, 0, 0, 0, 0, 0, 0, 0, 0, 0, 0}|\n",
            "+------------------------------------------------------------------------------------------------------------------------------------------------------------------------------------------------------------------------------------------------------------------------------------------------------------+\n",
            "only showing top 20 rows\n",
            "\n"
          ]
        }
      ]
    },
    {
      "cell_type": "code",
      "source": [],
      "metadata": {
        "colab": {
          "base_uri": "https://localhost:8080/"
        },
        "id": "9-n9PYuIKhTg",
        "outputId": "255b2ce7-1946-4379-a254-dda7778a89a7"
      },
      "execution_count": null,
      "outputs": [
        {
          "output_type": "execute_result",
          "data": {
            "text/plain": [
              "Column<'size(items)'>"
            ]
          },
          "metadata": {},
          "execution_count": 28
        }
      ]
    },
    {
      "cell_type": "code",
      "execution_count": null,
      "metadata": {
        "id": "h-T6fTLMTp_I",
        "colab": {
          "base_uri": "https://localhost:8080/"
        },
        "outputId": "b569306c-e323-449e-fcbb-3fb0914fc4e7"
      },
      "outputs": [
        {
          "output_type": "stream",
          "name": "stdout",
          "text": [
            "+------------+---------+-------+--------------+------+---------+----+-------+-------+------------+-----------------+------+------+-----+---------+---------------+-----+--------+------+-------------+------------------+-----------+-------+-----------+--------------+--------+----------+-----------+-----------+----+------+-----------+----------+----+-----------------+---------------+------------+-------------+----------+--------------+-----------------+---+---------+----------+--------------+--------+---------+---------+---+-----+-----+----------+----+----+---------+-------+------------+----+-------+-----------+--------+------------+-----------+-----+-------------+----------------+-----+----------------+-------+---------+------------+-------------+-------------+---------+--------+----+--------+------+------------+-------+---------+------+------------+----+----+----------+------+-------+----------------+-----+----------+----+--------------+-----+------------+----+---------+-------+----+------+---+\n",
            "|Acetominifen|Anchovies|Aspirin|Auto Magazines|Bagels|Batteries|Beer|Bologna|Candles|Canned Fruit|Canned Vegetables|Cereal|Cheese|Chips|Chocolate|Chocolate Candy|Clams|Cleaners|Coffee|Cold Remedies|Computer Magazines|Conditioner|Cookies|Cooking Oil|Cottage Cheese|Crackers|Deli Meats|Deli Salads|Deodorizers|Dips|Donuts|Dried Fruit|Dried Meat|Eggs|Fashion Magazines|Flavored Drinks|French Fries|Fresh Chicken|Fresh Fish|Frozen Chicken|Frozen Vegetables|Gum|Hamburger|Hard Candy|Home Magazines|Hot Dogs|Ibuprofen|Ice Cream|Jam|Jelly|Juice|Lightbulbs|Maps|Milk|Mouthwash|Muffins|Nasal Sprays|Nuts|Oysters|Pancake Mix|Pancakes|Paper Dishes|Paper Wipes|Pasta|Peanut Butter|Personal Hygiene|Pizza|Plastic Utensils|Popcorn|Popsicles|Pot Cleaners|Pot Scrubbers|Pots and Pans|Preserves|Pretzels|Rice|Sardines|Sauces|Screwdrivers|Shampoo|Shellfish|Shrimp|Sliced Bread|Soda|Soup|Sour Cream|Spices|Sponges|Sports Magazines|Sugar|Sunglasses|Tofu|Toilet Brushes|Tools|Toothbrushes|Tuna|TV Dinner|Waffles|Wine|Yogurt| id|\n",
            "+------------+---------+-------+--------------+------+---------+----+-------+-------+------------+-----------------+------+------+-----+---------+---------------+-----+--------+------+-------------+------------------+-----------+-------+-----------+--------------+--------+----------+-----------+-----------+----+------+-----------+----------+----+-----------------+---------------+------------+-------------+----------+--------------+-----------------+---+---------+----------+--------------+--------+---------+---------+---+-----+-----+----------+----+----+---------+-------+------------+----+-------+-----------+--------+------------+-----------+-----+-------------+----------------+-----+----------------+-------+---------+------------+-------------+-------------+---------+--------+----+--------+------+------------+-------+---------+------+------------+----+----+----------+------+-------+----------------+-----+----------+----+--------------+-----+------------+----+---------+-------+----+------+---+\n",
            "|           1|        0|      0|             0|     0|        0|   0|      0|      0|           0|                0|     0|     1|    0|        0|              0|    0|       0|     0|            0|                 0|          0|      0|          0|             0|       0|         0|          0|          0|   0|     0|          0|         0|   0|                0|              0|           0|            0|         0|             0|                0|  0|        0|         0|             1|       0|        0|        0|  0|    0|    0|         0|   0|   0|        0|      0|           0|   0|      0|          0|       0|           0|          0|    0|            0|               0|    0|               0|      0|        0|           0|            0|            0|        0|       0|   0|       0|     0|           0|      1|        0|     0|           0|   0|   0|         0|     0|      0|               0|    0|         0|   0|             0|    0|           0|   0|        0|      0|   0|     0|  0|\n",
            "|           1|        0|      0|             0|     0|        0|   0|      0|      0|           0|                0|     0|     1|    0|        0|              0|    0|       0|     0|            0|                 0|          0|      0|          0|             0|       0|         0|          0|          0|   0|     0|          0|         0|   0|                0|              0|           0|            0|         0|             0|                0|  0|        0|         1|             0|       0|        0|        0|  0|    0|    0|         0|   0|   1|        0|      0|           0|   0|      0|          0|       0|           0|          0|    0|            0|               0|    0|               0|      0|        0|           0|            1|            0|        0|       0|   1|       0|     0|           0|      0|        0|     0|           0|   0|   0|         0|     0|      0|               0|    0|         0|   0|             0|    0|           0|   0|        0|      0|   0|     0|  1|\n",
            "|           0|        0|      0|             0|     0|        0|   0|      0|      0|           0|                0|     0|     0|    0|        0|              0|    0|       0|     1|            0|                 0|          0|      0|          0|             0|       0|         0|          1|          0|   0|     0|          0|         0|   0|                0|              0|           0|            0|         0|             0|                0|  0|        0|         0|             0|       0|        0|        0|  0|    0|    0|         0|   0|   0|        0|      0|           0|   0|      0|          0|       0|           0|          0|    0|            0|               0|    0|               0|      0|        0|           0|            0|            0|        0|       0|   0|       0|     0|           0|      0|        0|     0|           0|   0|   0|         0|     0|      0|               0|    0|         0|   0|             0|    0|           0|   0|        0|      0|   0|     0|  2|\n",
            "|           0|        0|      0|             0|     0|        0|   0|      0|      0|           0|                0|     0|     0|    0|        0|              0|    0|       0|     0|            0|                 0|          0|      0|          0|             0|       0|         0|          0|          0|   0|     0|          0|         0|   1|                0|              0|           0|            0|         0|             0|                0|  1|        0|         0|             0|       0|        0|        0|  0|    0|    0|         0|   0|   1|        0|      0|           0|   0|      0|          0|       0|           0|          0|    0|            0|               0|    0|               0|      0|        0|           0|            0|            0|        0|       0|   0|       0|     0|           0|      0|        0|     0|           0|   0|   1|         0|     0|      0|               0|    0|         0|   0|             0|    0|           0|   0|        0|      0|   0|     0|  3|\n",
            "|           0|        0|      0|             0|     0|        0|   0|      0|      0|           0|                0|     0|     1|    0|        0|              0|    0|       0|     0|            0|                 0|          0|      0|          0|             0|       0|         0|          0|          0|   0|     0|          1|         0|   0|                0|              0|           0|            0|         0|             1|                0|  0|        0|         0|             0|       0|        0|        0|  0|    0|    0|         0|   0|   0|        0|      0|           0|   0|      0|          0|       0|           0|          0|    0|            0|               0|    0|               1|      0|        0|           0|            0|            0|        0|       0|   0|       0|     0|           0|      0|        0|     0|           0|   0|   0|         0|     0|      0|               0|    0|         0|   0|             0|    0|           0|   0|        0|      0|   0|     0|  4|\n",
            "|           0|        0|      0|             0|     0|        0|   0|      0|      0|           0|                0|     0|     0|    0|        0|              0|    0|       0|     0|            0|                 0|          0|      0|          0|             0|       0|         0|          0|          0|   0|     0|          0|         0|   0|                0|              0|           0|            0|         0|             0|                0|  0|        0|         0|             0|       0|        0|        0|  0|    0|    0|         0|   0|   0|        0|      0|           0|   0|      0|          0|       0|           0|          0|    0|            0|               0|    0|               0|      0|        0|           0|            0|            0|        0|       0|   0|       0|     0|           0|      1|        0|     0|           0|   0|   0|         0|     0|      0|               0|    0|         0|   0|             0|    0|           0|   0|        0|      0|   0|     0|  5|\n",
            "|           0|        0|      0|             0|     0|        0|   0|      0|      0|           0|                0|     0|     0|    0|        0|              0|    0|       0|     0|            0|                 0|          0|      0|          0|             0|       0|         0|          0|          0|   0|     0|          0|         0|   0|                0|              0|           0|            0|         0|             0|                0|  0|        0|         0|             0|       0|        0|        0|  0|    0|    0|         0|   0|   1|        0|      0|           0|   0|      0|          0|       0|           0|          1|    0|            0|               0|    0|               0|      0|        0|           0|            0|            0|        0|       0|   0|       0|     0|           0|      0|        0|     0|           0|   0|   0|         0|     0|      0|               0|    0|         0|   0|             0|    0|           0|   0|        0|      1|   0|     0|  6|\n",
            "|           0|        0|      0|             0|     0|        0|   0|      0|      0|           0|                0|     0|     0|    0|        0|              0|    0|       0|     0|            0|                 0|          0|      0|          0|             0|       0|         0|          0|          0|   0|     1|          1|         0|   0|                0|              0|           0|            0|         0|             1|                0|  0|        0|         0|             0|       0|        0|        0|  0|    0|    0|         0|   0|   0|        0|      0|           0|   0|      0|          0|       0|           0|          0|    0|            0|               0|    0|               0|      0|        0|           0|            0|            0|        0|       0|   0|       0|     0|           0|      0|        0|     0|           0|   0|   0|         0|     0|      0|               0|    0|         0|   0|             0|    0|           0|   0|        0|      0|   0|     0|  7|\n",
            "|           0|        0|      0|             0|     0|        0|   0|      0|      0|           0|                0|     0|     0|    0|        0|              0|    0|       0|     0|            0|                 0|          0|      0|          1|             0|       0|         0|          0|          0|   0|     0|          0|         0|   0|                0|              0|           0|            0|         0|             0|                0|  0|        1|         0|             0|       0|        0|        0|  0|    0|    0|         0|   1|   0|        0|      0|           0|   0|      0|          0|       0|           0|          0|    0|            0|               0|    0|               0|      0|        1|           0|            0|            0|        0|       0|   0|       0|     0|           0|      0|        0|     0|           0|   0|   0|         0|     0|      0|               0|    0|         0|   0|             0|    0|           0|   0|        0|      0|   0|     0|  8|\n",
            "|           0|        0|      0|             0|     0|        0|   0|      0|      0|           0|                0|     0|     1|    0|        0|              0|    0|       0|     0|            0|                 0|          0|      0|          1|             0|       0|         0|          0|          0|   1|     0|          0|         0|   0|                0|              0|           0|            0|         0|             0|                0|  0|        0|         0|             0|       0|        0|        0|  0|    0|    0|         0|   0|   0|        0|      0|           0|   0|      0|          0|       0|           0|          0|    0|            0|               0|    0|               0|      0|        0|           0|            0|            0|        1|       0|   0|       0|     0|           0|      0|        0|     0|           0|   0|   0|         0|     0|      0|               0|    0|         0|   0|             0|    0|           0|   0|        1|      0|   0|     0|  9|\n",
            "|           0|        0|      0|             0|     0|        0|   0|      0|      0|           0|                0|     0|     0|    0|        0|              0|    0|       0|     0|            0|                 0|          0|      0|          0|             0|       0|         0|          0|          0|   0|     0|          0|         0|   0|                0|              0|           0|            0|         0|             0|                0|  0|        0|         0|             0|       0|        0|        0|  0|    0|    0|         0|   0|   0|        0|      0|           1|   0|      0|          0|       0|           0|          0|    0|            0|               0|    0|               0|      0|        0|           0|            0|            0|        0|       0|   0|       0|     0|           0|      0|        0|     0|           0|   0|   0|         0|     0|      0|               0|    0|         0|   0|             0|    0|           0|   0|        0|      0|   0|     0| 10|\n",
            "|           0|        0|      0|             1|     0|        0|   0|      0|      0|           0|                0|     0|     0|    0|        0|              0|    0|       0|     0|            0|                 0|          0|      0|          0|             0|       0|         0|          0|          0|   0|     0|          0|         0|   0|                0|              0|           0|            1|         0|             1|                0|  0|        0|         0|             0|       0|        0|        0|  0|    0|    0|         0|   0|   0|        0|      0|           0|   0|      0|          1|       0|           0|          0|    0|            0|               0|    0|               0|      0|        0|           0|            0|            0|        0|       0|   0|       0|     0|           0|      0|        0|     0|           0|   0|   0|         0|     0|      0|               0|    0|         0|   0|             0|    0|           0|   0|        0|      1|   0|     0| 11|\n",
            "|           0|        0|      0|             0|     0|        0|   0|      0|      0|           0|                0|     0|     0|    0|        0|              0|    0|       0|     0|            0|                 0|          0|      0|          0|             0|       0|         0|          0|          0|   0|     1|          1|         0|   0|                0|              0|           0|            0|         0|             0|                0|  0|        0|         0|             0|       0|        0|        0|  0|    0|    0|         0|   0|   0|        0|      0|           0|   0|      0|          0|       0|           0|          0|    0|            0|               0|    0|               0|      0|        0|           0|            0|            0|        0|       0|   0|       0|     0|           0|      0|        0|     0|           0|   0|   0|         0|     0|      0|               0|    0|         0|   0|             0|    0|           0|   0|        0|      1|   0|     0| 12|\n",
            "|           0|        0|      0|             0|     0|        0|   0|      0|      0|           0|                0|     0|     1|    0|        0|              0|    0|       0|     0|            0|                 0|          0|      0|          0|             0|       0|         0|          0|          0|   0|     0|          0|         0|   0|                0|              0|           0|            0|         0|             0|                0|  0|        0|         0|             0|       0|        0|        0|  0|    0|    0|         1|   0|   0|        0|      0|           0|   0|      0|          0|       0|           0|          0|    0|            0|               0|    0|               0|      0|        0|           0|            0|            0|        0|       0|   0|       0|     0|           0|      1|        0|     0|           0|   0|   0|         0|     0|      0|               0|    0|         0|   0|             0|    0|           0|   0|        0|      0|   0|     0| 13|\n",
            "|           0|        0|      0|             0|     0|        0|   0|      0|      0|           0|                0|     0|     0|    0|        0|              0|    0|       0|     0|            0|                 0|          0|      0|          1|             0|       0|         0|          0|          0|   0|     0|          0|         0|   1|                0|              0|           0|            0|         0|             0|                0|  0|        0|         0|             0|       0|        0|        0|  0|    0|    0|         0|   0|   0|        0|      0|           0|   0|      0|          0|       0|           0|          0|    1|            0|               0|    1|               0|      0|        0|           0|            0|            0|        0|       0|   0|       0|     1|           0|      0|        0|     0|           0|   0|   0|         0|     0|      0|               0|    0|         1|   0|             0|    1|           0|   0|        0|      0|   0|     0| 14|\n",
            "|           0|        0|      0|             0|     0|        0|   0|      0|      0|           0|                0|     0|     0|    0|        0|              0|    0|       0|     0|            0|                 0|          0|      0|          0|             0|       0|         0|          0|          0|   0|     0|          0|         0|   0|                0|              1|           0|            0|         0|             0|                0|  0|        0|         0|             0|       0|        0|        0|  0|    0|    0|         0|   0|   0|        0|      0|           0|   0|      0|          0|       0|           0|          0|    0|            0|               0|    0|               0|      0|        0|           0|            0|            0|        0|       0|   0|       0|     0|           0|      0|        0|     0|           0|   1|   1|         0|     0|      0|               0|    0|         0|   0|             0|    0|           0|   0|        1|      0|   0|     0| 15|\n",
            "|           0|        0|      0|             0|     0|        0|   0|      0|      0|           0|                0|     0|     0|    0|        0|              0|    0|       0|     0|            0|                 0|          0|      0|          0|             0|       0|         0|          0|          0|   0|     0|          0|         0|   0|                0|              0|           0|            0|         0|             0|                0|  0|        0|         0|             0|       0|        0|        0|  0|    0|    0|         0|   0|   0|        0|      0|           0|   0|      0|          0|       0|           0|          0|    0|            0|               0|    0|               0|      0|        0|           0|            0|            0|        0|       0|   0|       0|     0|           0|      0|        0|     0|           0|   0|   0|         0|     0|      0|               0|    0|         0|   0|             0|    0|           0|   1|        0|      0|   0|     0| 16|\n",
            "|           0|        0|      0|             0|     0|        0|   0|      0|      0|           0|                0|     0|     0|    0|        0|              0|    0|       0|     1|            0|                 0|          0|      0|          0|             0|       0|         0|          0|          0|   0|     0|          0|         0|   0|                0|              0|           0|            0|         0|             0|                0|  0|        1|         1|             0|       0|        0|        0|  0|    0|    0|         0|   0|   0|        0|      0|           0|   0|      0|          0|       0|           0|          0|    0|            0|               0|    0|               0|      0|        0|           0|            0|            0|        0|       0|   0|       0|     0|           0|      0|        0|     0|           0|   1|   0|         0|     0|      0|               0|    0|         0|   0|             0|    0|           0|   0|        0|      0|   0|     0| 17|\n",
            "|           0|        0|      0|             0|     0|        0|   0|      0|      0|           0|                0|     0|     0|    0|        0|              0|    0|       0|     0|            0|                 0|          0|      0|          0|             0|       0|         0|          0|          0|   0|     0|          0|         0|   0|                0|              0|           0|            0|         0|             0|                0|  0|        0|         0|             0|       0|        1|        0|  0|    0|    0|         0|   0|   0|        0|      0|           0|   0|      0|          0|       0|           0|          0|    0|            1|               0|    0|               1|      1|        0|           0|            0|            0|        0|       0|   0|       0|     0|           0|      0|        0|     0|           0|   0|   0|         0|     0|      0|               0|    0|         0|   0|             0|    0|           0|   0|        0|      0|   0|     0| 18|\n",
            "|           0|        0|      0|             0|     0|        0|   0|      0|      0|           0|                0|     0|     0|    1|        0|              0|    0|       0|     0|            0|                 0|          0|      0|          0|             0|       0|         0|          0|          0|   0|     0|          0|         0|   0|                0|              0|           0|            0|         0|             0|                0|  0|        0|         0|             0|       0|        0|        0|  0|    0|    1|         1|   0|   0|        1|      1|           0|   0|      0|          0|       0|           0|          0|    0|            0|               1|    0|               0|      0|        0|           0|            0|            0|        0|       0|   0|       0|     0|           0|      0|        0|     0|           0|   0|   0|         0|     0|      0|               0|    0|         0|   0|             0|    0|           0|   0|        0|      0|   0|     0| 19|\n",
            "+------------+---------+-------+--------------+------+---------+----+-------+-------+------------+-----------------+------+------+-----+---------+---------------+-----+--------+------+-------------+------------------+-----------+-------+-----------+--------------+--------+----------+-----------+-----------+----+------+-----------+----------+----+-----------------+---------------+------------+-------------+----------+--------------+-----------------+---+---------+----------+--------------+--------+---------+---------+---+-----+-----+----------+----+----+---------+-------+------------+----+-------+-----------+--------+------------+-----------+-----+-------------+----------------+-----+----------------+-------+---------+------------+-------------+-------------+---------+--------+----+--------+------+------------+-------+---------+------+------------+----+----+----------+------+-------+----------------+-----+----------+----+--------------+-----+------------+----+---------+-------+----+------+---+\n",
            "only showing top 20 rows\n",
            "\n"
          ]
        }
      ],
      "source": [
        "from pyspark.sql.functions import monotonically_increasing_id \n",
        "\n",
        "df_index = df.select(\"*\").withColumn(\"id\", monotonically_increasing_id())\n",
        "df_index.show()"
      ]
    },
    {
      "cell_type": "code",
      "execution_count": null,
      "metadata": {
        "id": "Jpnjao5DTrDp"
      },
      "outputs": [],
      "source": [
        "# !\n",
        "df.show()"
      ]
    },
    {
      "cell_type": "code",
      "execution_count": null,
      "metadata": {
        "id": "sz73Gq59S6LF"
      },
      "outputs": [],
      "source": [
        "data.show()"
      ]
    },
    {
      "cell_type": "markdown",
      "metadata": {
        "id": "4wtXuKiXg68I"
      },
      "source": [
        "## 2.\tApply Spark MLlib FPGrowth to the formatted data. Mine the set of frequent patterns with the minimum support of 0.1. Mine the set of association rules with the minimum confidence of 0.9."
      ]
    },
    {
      "cell_type": "code",
      "source": [
        "# Assuming your data is already in the required format, with each transaction on a separate row and items in a column named 'items'\n",
        "transactions = df.select(\"items\")\n",
        "fpGrowth = FPGrowth(itemsCol=\"items\", minSupport=0.1)\n",
        "model = fpGrowth.fit(transactions)\n",
        "frequentPatterns = model.freqItemsets\n",
        "associationRules = model.associationRules\n",
        "associationRules = associationRules.filter(associationRules[\"confidence\"] >= 0.9)\n",
        "frequentPatterns.show()\n",
        "associationRules.show()\n"
      ],
      "metadata": {
        "id": "p9Ngp3TAxwxu",
        "colab": {
          "base_uri": "https://localhost:8080/",
          "height": 553
        },
        "outputId": "2b435eb8-3073-42d1-b23d-3d8343823fb1"
      },
      "execution_count": null,
      "outputs": [
        {
          "output_type": "error",
          "ename": "AnalysisException",
          "evalue": "ignored",
          "traceback": [
            "\u001b[0;31m---------------------------------------------------------------------------\u001b[0m",
            "\u001b[0;31mAnalysisException\u001b[0m                         Traceback (most recent call last)",
            "\u001b[0;32m<ipython-input-32-4d0ca8e0e7a5>\u001b[0m in \u001b[0;36m<cell line: 2>\u001b[0;34m()\u001b[0m\n\u001b[1;32m      1\u001b[0m \u001b[0;31m# Assuming your data is already in the required format, with each transaction on a separate row and items in a column named 'items'\u001b[0m\u001b[0;34m\u001b[0m\u001b[0;34m\u001b[0m\u001b[0m\n\u001b[0;32m----> 2\u001b[0;31m \u001b[0mtransactions\u001b[0m \u001b[0;34m=\u001b[0m \u001b[0mdf\u001b[0m\u001b[0;34m.\u001b[0m\u001b[0mselect\u001b[0m\u001b[0;34m(\u001b[0m\u001b[0;34m\"items\"\u001b[0m\u001b[0;34m)\u001b[0m\u001b[0;34m\u001b[0m\u001b[0;34m\u001b[0m\u001b[0m\n\u001b[0m\u001b[1;32m      3\u001b[0m \u001b[0mfpGrowth\u001b[0m \u001b[0;34m=\u001b[0m \u001b[0mFPGrowth\u001b[0m\u001b[0;34m(\u001b[0m\u001b[0mitemsCol\u001b[0m\u001b[0;34m=\u001b[0m\u001b[0;34m\"items\"\u001b[0m\u001b[0;34m,\u001b[0m \u001b[0mminSupport\u001b[0m\u001b[0;34m=\u001b[0m\u001b[0;36m0.1\u001b[0m\u001b[0;34m)\u001b[0m\u001b[0;34m\u001b[0m\u001b[0;34m\u001b[0m\u001b[0m\n\u001b[1;32m      4\u001b[0m \u001b[0mmodel\u001b[0m \u001b[0;34m=\u001b[0m \u001b[0mfpGrowth\u001b[0m\u001b[0;34m.\u001b[0m\u001b[0mfit\u001b[0m\u001b[0;34m(\u001b[0m\u001b[0mtransactions\u001b[0m\u001b[0;34m)\u001b[0m\u001b[0;34m\u001b[0m\u001b[0;34m\u001b[0m\u001b[0m\n\u001b[1;32m      5\u001b[0m \u001b[0mfrequentPatterns\u001b[0m \u001b[0;34m=\u001b[0m \u001b[0mmodel\u001b[0m\u001b[0;34m.\u001b[0m\u001b[0mfreqItemsets\u001b[0m\u001b[0;34m\u001b[0m\u001b[0;34m\u001b[0m\u001b[0m\n",
            "\u001b[0;32m/content/spark-3.3.2-bin-hadoop3/python/pyspark/sql/dataframe.py\u001b[0m in \u001b[0;36mselect\u001b[0;34m(self, *cols)\u001b[0m\n\u001b[1;32m   2021\u001b[0m         \u001b[0;34m[\u001b[0m\u001b[0mRow\u001b[0m\u001b[0;34m(\u001b[0m\u001b[0mname\u001b[0m\u001b[0;34m=\u001b[0m\u001b[0;34m'Alice'\u001b[0m\u001b[0;34m,\u001b[0m \u001b[0mage\u001b[0m\u001b[0;34m=\u001b[0m\u001b[0;36m12\u001b[0m\u001b[0;34m)\u001b[0m\u001b[0;34m,\u001b[0m \u001b[0mRow\u001b[0m\u001b[0;34m(\u001b[0m\u001b[0mname\u001b[0m\u001b[0;34m=\u001b[0m\u001b[0;34m'Bob'\u001b[0m\u001b[0;34m,\u001b[0m \u001b[0mage\u001b[0m\u001b[0;34m=\u001b[0m\u001b[0;36m15\u001b[0m\u001b[0;34m)\u001b[0m\u001b[0;34m]\u001b[0m\u001b[0;34m\u001b[0m\u001b[0;34m\u001b[0m\u001b[0m\n\u001b[1;32m   2022\u001b[0m         \"\"\"\n\u001b[0;32m-> 2023\u001b[0;31m         \u001b[0mjdf\u001b[0m \u001b[0;34m=\u001b[0m \u001b[0mself\u001b[0m\u001b[0;34m.\u001b[0m\u001b[0m_jdf\u001b[0m\u001b[0;34m.\u001b[0m\u001b[0mselect\u001b[0m\u001b[0;34m(\u001b[0m\u001b[0mself\u001b[0m\u001b[0;34m.\u001b[0m\u001b[0m_jcols\u001b[0m\u001b[0;34m(\u001b[0m\u001b[0;34m*\u001b[0m\u001b[0mcols\u001b[0m\u001b[0;34m)\u001b[0m\u001b[0;34m)\u001b[0m\u001b[0;34m\u001b[0m\u001b[0;34m\u001b[0m\u001b[0m\n\u001b[0m\u001b[1;32m   2024\u001b[0m         \u001b[0;32mreturn\u001b[0m \u001b[0mDataFrame\u001b[0m\u001b[0;34m(\u001b[0m\u001b[0mjdf\u001b[0m\u001b[0;34m,\u001b[0m \u001b[0mself\u001b[0m\u001b[0;34m.\u001b[0m\u001b[0msparkSession\u001b[0m\u001b[0;34m)\u001b[0m\u001b[0;34m\u001b[0m\u001b[0;34m\u001b[0m\u001b[0m\n\u001b[1;32m   2025\u001b[0m \u001b[0;34m\u001b[0m\u001b[0m\n",
            "\u001b[0;32m/content/spark-3.3.2-bin-hadoop3/python/lib/py4j-0.10.9.5-src.zip/py4j/java_gateway.py\u001b[0m in \u001b[0;36m__call__\u001b[0;34m(self, *args)\u001b[0m\n\u001b[1;32m   1319\u001b[0m \u001b[0;34m\u001b[0m\u001b[0m\n\u001b[1;32m   1320\u001b[0m         \u001b[0manswer\u001b[0m \u001b[0;34m=\u001b[0m \u001b[0mself\u001b[0m\u001b[0;34m.\u001b[0m\u001b[0mgateway_client\u001b[0m\u001b[0;34m.\u001b[0m\u001b[0msend_command\u001b[0m\u001b[0;34m(\u001b[0m\u001b[0mcommand\u001b[0m\u001b[0;34m)\u001b[0m\u001b[0;34m\u001b[0m\u001b[0;34m\u001b[0m\u001b[0m\n\u001b[0;32m-> 1321\u001b[0;31m         return_value = get_return_value(\n\u001b[0m\u001b[1;32m   1322\u001b[0m             answer, self.gateway_client, self.target_id, self.name)\n\u001b[1;32m   1323\u001b[0m \u001b[0;34m\u001b[0m\u001b[0m\n",
            "\u001b[0;32m/content/spark-3.3.2-bin-hadoop3/python/pyspark/sql/utils.py\u001b[0m in \u001b[0;36mdeco\u001b[0;34m(*a, **kw)\u001b[0m\n\u001b[1;32m    194\u001b[0m                 \u001b[0;31m# Hide where the exception came from that shows a non-Pythonic\u001b[0m\u001b[0;34m\u001b[0m\u001b[0;34m\u001b[0m\u001b[0m\n\u001b[1;32m    195\u001b[0m                 \u001b[0;31m# JVM exception message.\u001b[0m\u001b[0;34m\u001b[0m\u001b[0;34m\u001b[0m\u001b[0m\n\u001b[0;32m--> 196\u001b[0;31m                 \u001b[0;32mraise\u001b[0m \u001b[0mconverted\u001b[0m \u001b[0;32mfrom\u001b[0m \u001b[0;32mNone\u001b[0m\u001b[0;34m\u001b[0m\u001b[0;34m\u001b[0m\u001b[0m\n\u001b[0m\u001b[1;32m    197\u001b[0m             \u001b[0;32melse\u001b[0m\u001b[0;34m:\u001b[0m\u001b[0;34m\u001b[0m\u001b[0;34m\u001b[0m\u001b[0m\n\u001b[1;32m    198\u001b[0m                 \u001b[0;32mraise\u001b[0m\u001b[0;34m\u001b[0m\u001b[0;34m\u001b[0m\u001b[0m\n",
            "\u001b[0;31mAnalysisException\u001b[0m: Column 'items' does not exist. Did you mean one of the following? [Clams, Bagels, Beer, Cheese, Chips, Dips, Eggs, Gum, Jam, Maps, Nuts, Oysters, Rice, Spices, Tools, Wine, Cereal, Donuts, Jelly, Juice, Milk, Pasta, Pizza, Pretzels, Sauces, Shrimp, Soda, Soup, Sugar, Tofu, Tuna, Batteries, Candles, Cleaners, Coffee, Cookies, Crackers, Hot Dogs, Muffins, Sardines, Shampoo, Sponges, Waffles, Yogurt, Aspirin, Bologna, Deli Meats, Lightbulbs, Mouthwash, Pancakes, Popcorn, Popsicles, Preserves, Shellfish, Anchovies, Deodorizers, Dried Meat, Fresh Fish, Ice Cream, TV Dinner, Chocolate, Conditioner, Deli Salads, Hamburger, Ibuprofen, Paper Wipes, Pot Cleaners, Screwdrivers, Sour Cream, Sunglasses, Acetominifen, Cold Remedies, Cooking Oil, Dried Fruit, French Fries, Hard Candy, Pancake Mix, Paper Dishes, Pot Scrubbers, Sliced Bread, Toothbrushes, Canned Fruit, Cottage Cheese, Nasal Sprays, Pots and Pans, Toilet Brushes, Auto Magazines, Fresh Chicken, Home Magazines, Peanut Butter, Plastic Utensils, Chocolate Candy, Flavored Drinks, Frozen Chicken, Sports Magazines, Canned Vegetables, Computer Magazines, Fashion Magazines, Frozen Vegetables, Personal Hygiene];\n'Project ['items]\n+- LogicalRDD [Acetominifen#3089L, Anchovies#3090L, Aspirin#3091L, Auto Magazines#3092L, Bagels#3093L, Batteries#3094L, Beer#3095L, Bologna#3096L, Candles#3097L, Canned Fruit#3098L, Canned Vegetables#3099L, Cereal#3100L, Cheese#3101L, Chips#3102L, Chocolate#3103L, Chocolate Candy#3104L, Clams#3105L, Cleaners#3106L, Coffee#3107L, Cold Remedies#3108L, Computer Magazines#3109L, Conditioner#3110L, Cookies#3111L, Cooking Oil#3112L, ... 76 more fields], false\n"
          ]
        }
      ]
    },
    {
      "cell_type": "markdown",
      "source": [],
      "metadata": {
        "id": "qe_sDuvGxxJP"
      }
    },
    {
      "cell_type": "code",
      "execution_count": null,
      "metadata": {
        "id": "r4Rou-9khM8y"
      },
      "outputs": [],
      "source": []
    },
    {
      "cell_type": "code",
      "execution_count": null,
      "metadata": {
        "id": "Uco8MhUYhNAe"
      },
      "outputs": [],
      "source": []
    },
    {
      "cell_type": "code",
      "execution_count": null,
      "metadata": {
        "id": "vcMuuaxXS0PE"
      },
      "outputs": [],
      "source": []
    },
    {
      "cell_type": "markdown",
      "metadata": {
        "id": "dCNBYGudnY0j"
      },
      "source": [
        "# Exercise 4: Classification"
      ]
    },
    {
      "cell_type": "markdown",
      "metadata": {
        "id": "q1N5uMpEMoc3"
      },
      "source": []
    },
    {
      "cell_type": "markdown",
      "metadata": {
        "id": "JBcYYGSXoH61"
      },
      "source": [
        "##0. Load the data file: mushroom.csv\n",
        "*   The data represents a collection of mushroom species. \n",
        "*   There are 8124 examples, each of which has 22 attributes and it is categorized into either “edible” (e) or “poisonous” (p) \n"
      ]
    },
    {
      "cell_type": "code",
      "execution_count": null,
      "metadata": {
        "id": "COKEJ_iVnl2Q",
        "colab": {
          "base_uri": "https://localhost:8080/"
        },
        "outputId": "ee6b94df-88e3-48e3-c593-212b13ba0e5a"
      },
      "outputs": [
        {
          "output_type": "stream",
          "name": "stdout",
          "text": [
            "fatal: destination path 'CSC14118' already exists and is not an empty directory.\n"
          ]
        }
      ],
      "source": [
        "!git clone https://github.com/nnthaofit/CSC14118.git"
      ]
    },
    {
      "cell_type": "code",
      "execution_count": null,
      "metadata": {
        "id": "YnF5ML6qo3Rz"
      },
      "outputs": [],
      "source": [
        "df = spark.read.csv(\"CSC14118/mushrooms.csv\", header = True, inferSchema = True) "
      ]
    },
    {
      "cell_type": "code",
      "source": [
        "df.select('cap-surface').distinct().collect()"
      ],
      "metadata": {
        "colab": {
          "base_uri": "https://localhost:8080/"
        },
        "id": "dbFcJgRDMKyL",
        "outputId": "3e2ad83f-a899-433e-b067-0d7811b02c3f"
      },
      "execution_count": null,
      "outputs": [
        {
          "output_type": "execute_result",
          "data": {
            "text/plain": [
              "[Row(cap-surface='g'),\n",
              " Row(cap-surface='f'),\n",
              " Row(cap-surface='y'),\n",
              " Row(cap-surface='s')]"
            ]
          },
          "metadata": {},
          "execution_count": 118
        }
      ]
    },
    {
      "cell_type": "markdown",
      "metadata": {
        "id": "2z3HcOQ5k_Oh"
      },
      "source": [
        "## 1.\tPrepare the train and test sets following the ratio 8:2"
      ]
    },
    {
      "cell_type": "code",
      "execution_count": null,
      "metadata": {
        "id": "NrM5Pi4Rruma"
      },
      "outputs": [],
      "source": [
        "from pyspark.sql.window import Window\n",
        "from pyspark.sql import functions as f\n",
        "from pyspark.ml.linalg import Vectors"
      ]
    },
    {
      "cell_type": "code",
      "source": [
        "df_index = df.withColumn(\"id\",f.monotonically_increasing_id())\n",
        "df_index.show()"
      ],
      "metadata": {
        "colab": {
          "base_uri": "https://localhost:8080/"
        },
        "id": "7aB2JvtFMida",
        "outputId": "2ccc1864-44da-4e00-dd52-9d4cdec9304b"
      },
      "execution_count": null,
      "outputs": [
        {
          "output_type": "stream",
          "name": "stdout",
          "text": [
            "+-----+---------+-----------+---------+-------+----+---------------+------------+---------+----------+-----------+----------+------------------------+------------------------+----------------------+----------------------+---------+----------+-----------+---------+-----------------+----------+-------+---+\n",
            "|class|cap-shape|cap-surface|cap-color|bruises|odor|gill-attachment|gill-spacing|gill-size|gill-color|stalk-shape|stalk-root|stalk-surface-above-ring|stalk-surface-below-ring|stalk-color-above-ring|stalk-color-below-ring|veil-type|veil-color|ring-number|ring-type|spore-print-color|population|habitat| id|\n",
            "+-----+---------+-----------+---------+-------+----+---------------+------------+---------+----------+-----------+----------+------------------------+------------------------+----------------------+----------------------+---------+----------+-----------+---------+-----------------+----------+-------+---+\n",
            "|    p|        x|          s|        n|      t|   p|              f|           c|        n|         k|          e|         e|                       s|                       s|                     w|                     w|        p|         w|          o|        p|                k|         s|      u|  0|\n",
            "|    e|        x|          s|        y|      t|   a|              f|           c|        b|         k|          e|         c|                       s|                       s|                     w|                     w|        p|         w|          o|        p|                n|         n|      g|  1|\n",
            "|    e|        b|          s|        w|      t|   l|              f|           c|        b|         n|          e|         c|                       s|                       s|                     w|                     w|        p|         w|          o|        p|                n|         n|      m|  2|\n",
            "|    p|        x|          y|        w|      t|   p|              f|           c|        n|         n|          e|         e|                       s|                       s|                     w|                     w|        p|         w|          o|        p|                k|         s|      u|  3|\n",
            "|    e|        x|          s|        g|      f|   n|              f|           w|        b|         k|          t|         e|                       s|                       s|                     w|                     w|        p|         w|          o|        e|                n|         a|      g|  4|\n",
            "|    e|        x|          y|        y|      t|   a|              f|           c|        b|         n|          e|         c|                       s|                       s|                     w|                     w|        p|         w|          o|        p|                k|         n|      g|  5|\n",
            "|    e|        b|          s|        w|      t|   a|              f|           c|        b|         g|          e|         c|                       s|                       s|                     w|                     w|        p|         w|          o|        p|                k|         n|      m|  6|\n",
            "|    e|        b|          y|        w|      t|   l|              f|           c|        b|         n|          e|         c|                       s|                       s|                     w|                     w|        p|         w|          o|        p|                n|         s|      m|  7|\n",
            "|    p|        x|          y|        w|      t|   p|              f|           c|        n|         p|          e|         e|                       s|                       s|                     w|                     w|        p|         w|          o|        p|                k|         v|      g|  8|\n",
            "|    e|        b|          s|        y|      t|   a|              f|           c|        b|         g|          e|         c|                       s|                       s|                     w|                     w|        p|         w|          o|        p|                k|         s|      m|  9|\n",
            "|    e|        x|          y|        y|      t|   l|              f|           c|        b|         g|          e|         c|                       s|                       s|                     w|                     w|        p|         w|          o|        p|                n|         n|      g| 10|\n",
            "|    e|        x|          y|        y|      t|   a|              f|           c|        b|         n|          e|         c|                       s|                       s|                     w|                     w|        p|         w|          o|        p|                k|         s|      m| 11|\n",
            "|    e|        b|          s|        y|      t|   a|              f|           c|        b|         w|          e|         c|                       s|                       s|                     w|                     w|        p|         w|          o|        p|                n|         s|      g| 12|\n",
            "|    p|        x|          y|        w|      t|   p|              f|           c|        n|         k|          e|         e|                       s|                       s|                     w|                     w|        p|         w|          o|        p|                n|         v|      u| 13|\n",
            "|    e|        x|          f|        n|      f|   n|              f|           w|        b|         n|          t|         e|                       s|                       f|                     w|                     w|        p|         w|          o|        e|                k|         a|      g| 14|\n",
            "|    e|        s|          f|        g|      f|   n|              f|           c|        n|         k|          e|         e|                       s|                       s|                     w|                     w|        p|         w|          o|        p|                n|         y|      u| 15|\n",
            "|    e|        f|          f|        w|      f|   n|              f|           w|        b|         k|          t|         e|                       s|                       s|                     w|                     w|        p|         w|          o|        e|                n|         a|      g| 16|\n",
            "|    p|        x|          s|        n|      t|   p|              f|           c|        n|         n|          e|         e|                       s|                       s|                     w|                     w|        p|         w|          o|        p|                k|         s|      g| 17|\n",
            "|    p|        x|          y|        w|      t|   p|              f|           c|        n|         n|          e|         e|                       s|                       s|                     w|                     w|        p|         w|          o|        p|                n|         s|      u| 18|\n",
            "|    p|        x|          s|        n|      t|   p|              f|           c|        n|         k|          e|         e|                       s|                       s|                     w|                     w|        p|         w|          o|        p|                n|         s|      u| 19|\n",
            "+-----+---------+-----------+---------+-------+----+---------------+------------+---------+----------+-----------+----------+------------------------+------------------------+----------------------+----------------------+---------+----------+-----------+---------+-----------------+----------+-------+---+\n",
            "only showing top 20 rows\n",
            "\n"
          ]
        }
      ]
    },
    {
      "cell_type": "code",
      "execution_count": null,
      "metadata": {
        "id": "DQrHmRM2fCrK"
      },
      "outputs": [],
      "source": [
        "split = df_index.randomSplit([8.0,2.0],24)"
      ]
    },
    {
      "cell_type": "code",
      "source": [
        "train = split[0].drop(\"id\")\n",
        "test = split[1].drop(\"id\")"
      ],
      "metadata": {
        "id": "qrj-mM0SOM2I"
      },
      "execution_count": null,
      "outputs": []
    },
    {
      "cell_type": "code",
      "source": [
        "feature = train.drop(\"class\")\n",
        "feature = feature.rdd.map(lambda x: (list(x))).toDF(feature.columns)"
      ],
      "metadata": {
        "id": "1og2OgsoRR3L"
      },
      "execution_count": null,
      "outputs": []
    },
    {
      "cell_type": "code",
      "source": [
        "from pyspark.sql import Row\n",
        "\n",
        "row = Row(\"items\")\n",
        "\n",
        "a =feature.rdd.map(row).toDF()\n",
        "a = a.rdd.map(list).toDF([\"features\"])"
      ],
      "metadata": {
        "id": "1bokIGwlUY_R"
      },
      "execution_count": null,
      "outputs": []
    },
    {
      "cell_type": "code",
      "source": [
        "a.features.apply(lambda row: [row])"
      ],
      "metadata": {
        "colab": {
          "base_uri": "https://localhost:8080/",
          "height": 165
        },
        "id": "RTjfuHMyVMUe",
        "outputId": "8cdb838b-cc77-4e6d-bfd9-697864adbda6"
      },
      "execution_count": null,
      "outputs": [
        {
          "output_type": "error",
          "ename": "TypeError",
          "evalue": "ignored",
          "traceback": [
            "\u001b[0;31m---------------------------------------------------------------------------\u001b[0m",
            "\u001b[0;31mTypeError\u001b[0m                                 Traceback (most recent call last)",
            "\u001b[0;32m<ipython-input-113-0ea8ab4daee2>\u001b[0m in \u001b[0;36m<cell line: 1>\u001b[0;34m()\u001b[0m\n\u001b[0;32m----> 1\u001b[0;31m \u001b[0ma\u001b[0m\u001b[0;34m.\u001b[0m\u001b[0mfeatures\u001b[0m\u001b[0;34m.\u001b[0m\u001b[0mapply\u001b[0m\u001b[0;34m(\u001b[0m\u001b[0;32mlambda\u001b[0m \u001b[0mrow\u001b[0m\u001b[0;34m:\u001b[0m \u001b[0;34m[\u001b[0m\u001b[0mrow\u001b[0m\u001b[0;34m]\u001b[0m\u001b[0;34m)\u001b[0m\u001b[0;34m\u001b[0m\u001b[0;34m\u001b[0m\u001b[0m\n\u001b[0m",
            "\u001b[0;31mTypeError\u001b[0m: 'Column' object is not callable"
          ]
        }
      ]
    },
    {
      "cell_type": "markdown",
      "metadata": {
        "id": "MRV_XLPzmVph"
      },
      "source": [
        "## 2. Fit a decision tree model on the training set, using Spark MLlib DecisionTreeClassifier with default parameters"
      ]
    },
    {
      "cell_type": "code",
      "execution_count": null,
      "metadata": {
        "id": "8d6VTk_EmbUw"
      },
      "outputs": [],
      "source": [
        "from pyspark.ml.regression import DecisionTreeRegressor"
      ]
    },
    {
      "cell_type": "code",
      "execution_count": null,
      "metadata": {
        "id": "y6xvCLsCgQ5v",
        "colab": {
          "base_uri": "https://localhost:8080/",
          "height": 363
        },
        "outputId": "3a80e4b6-e39f-4685-c76b-a9ffb11f5787"
      },
      "outputs": [
        {
          "output_type": "error",
          "ename": "IllegalArgumentException",
          "evalue": "ignored",
          "traceback": [
            "\u001b[0;31m---------------------------------------------------------------------------\u001b[0m",
            "\u001b[0;31mIllegalArgumentException\u001b[0m                  Traceback (most recent call last)",
            "\u001b[0;32m<ipython-input-63-fb674ce29213>\u001b[0m in \u001b[0;36m<cell line: 2>\u001b[0;34m()\u001b[0m\n\u001b[1;32m      1\u001b[0m \u001b[0mdt\u001b[0m \u001b[0;34m=\u001b[0m \u001b[0mDecisionTreeRegressor\u001b[0m\u001b[0;34m(\u001b[0m\u001b[0;34m)\u001b[0m\u001b[0;34m\u001b[0m\u001b[0;34m\u001b[0m\u001b[0m\n\u001b[0;32m----> 2\u001b[0;31m \u001b[0mmodel\u001b[0m \u001b[0;34m=\u001b[0m\u001b[0mdt\u001b[0m\u001b[0;34m.\u001b[0m\u001b[0mfit\u001b[0m\u001b[0;34m(\u001b[0m\u001b[0mtrain\u001b[0m\u001b[0;34m)\u001b[0m\u001b[0;34m\u001b[0m\u001b[0;34m\u001b[0m\u001b[0m\n\u001b[0m",
            "\u001b[0;32m/content/spark-3.3.2-bin-hadoop3/python/pyspark/ml/base.py\u001b[0m in \u001b[0;36mfit\u001b[0;34m(self, dataset, params)\u001b[0m\n\u001b[1;32m    203\u001b[0m                 \u001b[0;32mreturn\u001b[0m \u001b[0mself\u001b[0m\u001b[0;34m.\u001b[0m\u001b[0mcopy\u001b[0m\u001b[0;34m(\u001b[0m\u001b[0mparams\u001b[0m\u001b[0;34m)\u001b[0m\u001b[0;34m.\u001b[0m\u001b[0m_fit\u001b[0m\u001b[0;34m(\u001b[0m\u001b[0mdataset\u001b[0m\u001b[0;34m)\u001b[0m\u001b[0;34m\u001b[0m\u001b[0;34m\u001b[0m\u001b[0m\n\u001b[1;32m    204\u001b[0m             \u001b[0;32melse\u001b[0m\u001b[0;34m:\u001b[0m\u001b[0;34m\u001b[0m\u001b[0;34m\u001b[0m\u001b[0m\n\u001b[0;32m--> 205\u001b[0;31m                 \u001b[0;32mreturn\u001b[0m \u001b[0mself\u001b[0m\u001b[0;34m.\u001b[0m\u001b[0m_fit\u001b[0m\u001b[0;34m(\u001b[0m\u001b[0mdataset\u001b[0m\u001b[0;34m)\u001b[0m\u001b[0;34m\u001b[0m\u001b[0;34m\u001b[0m\u001b[0m\n\u001b[0m\u001b[1;32m    206\u001b[0m         \u001b[0;32melse\u001b[0m\u001b[0;34m:\u001b[0m\u001b[0;34m\u001b[0m\u001b[0;34m\u001b[0m\u001b[0m\n\u001b[1;32m    207\u001b[0m             raise TypeError(\n",
            "\u001b[0;32m/content/spark-3.3.2-bin-hadoop3/python/pyspark/ml/wrapper.py\u001b[0m in \u001b[0;36m_fit\u001b[0;34m(self, dataset)\u001b[0m\n\u001b[1;32m    381\u001b[0m \u001b[0;34m\u001b[0m\u001b[0m\n\u001b[1;32m    382\u001b[0m     \u001b[0;32mdef\u001b[0m \u001b[0m_fit\u001b[0m\u001b[0;34m(\u001b[0m\u001b[0mself\u001b[0m\u001b[0;34m,\u001b[0m \u001b[0mdataset\u001b[0m\u001b[0;34m:\u001b[0m \u001b[0mDataFrame\u001b[0m\u001b[0;34m)\u001b[0m \u001b[0;34m->\u001b[0m \u001b[0mJM\u001b[0m\u001b[0;34m:\u001b[0m\u001b[0;34m\u001b[0m\u001b[0;34m\u001b[0m\u001b[0m\n\u001b[0;32m--> 383\u001b[0;31m         \u001b[0mjava_model\u001b[0m \u001b[0;34m=\u001b[0m \u001b[0mself\u001b[0m\u001b[0;34m.\u001b[0m\u001b[0m_fit_java\u001b[0m\u001b[0;34m(\u001b[0m\u001b[0mdataset\u001b[0m\u001b[0;34m)\u001b[0m\u001b[0;34m\u001b[0m\u001b[0;34m\u001b[0m\u001b[0m\n\u001b[0m\u001b[1;32m    384\u001b[0m         \u001b[0mmodel\u001b[0m \u001b[0;34m=\u001b[0m \u001b[0mself\u001b[0m\u001b[0;34m.\u001b[0m\u001b[0m_create_model\u001b[0m\u001b[0;34m(\u001b[0m\u001b[0mjava_model\u001b[0m\u001b[0;34m)\u001b[0m\u001b[0;34m\u001b[0m\u001b[0;34m\u001b[0m\u001b[0m\n\u001b[1;32m    385\u001b[0m         \u001b[0;32mreturn\u001b[0m \u001b[0mself\u001b[0m\u001b[0;34m.\u001b[0m\u001b[0m_copyValues\u001b[0m\u001b[0;34m(\u001b[0m\u001b[0mmodel\u001b[0m\u001b[0;34m)\u001b[0m\u001b[0;34m\u001b[0m\u001b[0;34m\u001b[0m\u001b[0m\n",
            "\u001b[0;32m/content/spark-3.3.2-bin-hadoop3/python/pyspark/ml/wrapper.py\u001b[0m in \u001b[0;36m_fit_java\u001b[0;34m(self, dataset)\u001b[0m\n\u001b[1;32m    378\u001b[0m \u001b[0;34m\u001b[0m\u001b[0m\n\u001b[1;32m    379\u001b[0m         \u001b[0mself\u001b[0m\u001b[0;34m.\u001b[0m\u001b[0m_transfer_params_to_java\u001b[0m\u001b[0;34m(\u001b[0m\u001b[0;34m)\u001b[0m\u001b[0;34m\u001b[0m\u001b[0;34m\u001b[0m\u001b[0m\n\u001b[0;32m--> 380\u001b[0;31m         \u001b[0;32mreturn\u001b[0m \u001b[0mself\u001b[0m\u001b[0;34m.\u001b[0m\u001b[0m_java_obj\u001b[0m\u001b[0;34m.\u001b[0m\u001b[0mfit\u001b[0m\u001b[0;34m(\u001b[0m\u001b[0mdataset\u001b[0m\u001b[0;34m.\u001b[0m\u001b[0m_jdf\u001b[0m\u001b[0;34m)\u001b[0m\u001b[0;34m\u001b[0m\u001b[0;34m\u001b[0m\u001b[0m\n\u001b[0m\u001b[1;32m    381\u001b[0m \u001b[0;34m\u001b[0m\u001b[0m\n\u001b[1;32m    382\u001b[0m     \u001b[0;32mdef\u001b[0m \u001b[0m_fit\u001b[0m\u001b[0;34m(\u001b[0m\u001b[0mself\u001b[0m\u001b[0;34m,\u001b[0m \u001b[0mdataset\u001b[0m\u001b[0;34m:\u001b[0m \u001b[0mDataFrame\u001b[0m\u001b[0;34m)\u001b[0m \u001b[0;34m->\u001b[0m \u001b[0mJM\u001b[0m\u001b[0;34m:\u001b[0m\u001b[0;34m\u001b[0m\u001b[0;34m\u001b[0m\u001b[0m\n",
            "\u001b[0;32m/content/spark-3.3.2-bin-hadoop3/python/lib/py4j-0.10.9.5-src.zip/py4j/java_gateway.py\u001b[0m in \u001b[0;36m__call__\u001b[0;34m(self, *args)\u001b[0m\n\u001b[1;32m   1319\u001b[0m \u001b[0;34m\u001b[0m\u001b[0m\n\u001b[1;32m   1320\u001b[0m         \u001b[0manswer\u001b[0m \u001b[0;34m=\u001b[0m \u001b[0mself\u001b[0m\u001b[0;34m.\u001b[0m\u001b[0mgateway_client\u001b[0m\u001b[0;34m.\u001b[0m\u001b[0msend_command\u001b[0m\u001b[0;34m(\u001b[0m\u001b[0mcommand\u001b[0m\u001b[0;34m)\u001b[0m\u001b[0;34m\u001b[0m\u001b[0;34m\u001b[0m\u001b[0m\n\u001b[0;32m-> 1321\u001b[0;31m         return_value = get_return_value(\n\u001b[0m\u001b[1;32m   1322\u001b[0m             answer, self.gateway_client, self.target_id, self.name)\n\u001b[1;32m   1323\u001b[0m \u001b[0;34m\u001b[0m\u001b[0m\n",
            "\u001b[0;32m/content/spark-3.3.2-bin-hadoop3/python/pyspark/sql/utils.py\u001b[0m in \u001b[0;36mdeco\u001b[0;34m(*a, **kw)\u001b[0m\n\u001b[1;32m    194\u001b[0m                 \u001b[0;31m# Hide where the exception came from that shows a non-Pythonic\u001b[0m\u001b[0;34m\u001b[0m\u001b[0;34m\u001b[0m\u001b[0m\n\u001b[1;32m    195\u001b[0m                 \u001b[0;31m# JVM exception message.\u001b[0m\u001b[0;34m\u001b[0m\u001b[0;34m\u001b[0m\u001b[0m\n\u001b[0;32m--> 196\u001b[0;31m                 \u001b[0;32mraise\u001b[0m \u001b[0mconverted\u001b[0m \u001b[0;32mfrom\u001b[0m \u001b[0;32mNone\u001b[0m\u001b[0;34m\u001b[0m\u001b[0;34m\u001b[0m\u001b[0m\n\u001b[0m\u001b[1;32m    197\u001b[0m             \u001b[0;32melse\u001b[0m\u001b[0;34m:\u001b[0m\u001b[0;34m\u001b[0m\u001b[0;34m\u001b[0m\u001b[0m\n\u001b[1;32m    198\u001b[0m                 \u001b[0;32mraise\u001b[0m\u001b[0;34m\u001b[0m\u001b[0;34m\u001b[0m\u001b[0m\n",
            "\u001b[0;31mIllegalArgumentException\u001b[0m: features does not exist. Available: class, cap-shape, cap-surface, cap-color, bruises, odor, gill-attachment, gill-spacing, gill-size, gill-color, stalk-shape, stalk-root, stalk-surface-above-ring, stalk-surface-below-ring, stalk-color-above-ring, stalk-color-below-ring, veil-type, veil-color, ring-number, ring-type, spore-print-color, population, habitat, id"
          ]
        }
      ],
      "source": [
        "dt = DecisionTreeRegressor()\n",
        "model =dt.fit(train)"
      ]
    },
    {
      "cell_type": "markdown",
      "metadata": {
        "id": "zsM9K6iembd6"
      },
      "source": [
        "## 3. Fit a random forest model on the training set, using Spark MLlib RandomForestClassification with default parameters"
      ]
    },
    {
      "cell_type": "code",
      "execution_count": null,
      "metadata": {
        "id": "7gG0BAF_mfsC"
      },
      "outputs": [],
      "source": []
    },
    {
      "cell_type": "code",
      "source": [],
      "metadata": {
        "id": "hxAXx6HhO7Za"
      },
      "execution_count": null,
      "outputs": []
    },
    {
      "cell_type": "code",
      "execution_count": null,
      "metadata": {
        "id": "cdbR2WBLi2qH"
      },
      "outputs": [],
      "source": []
    },
    {
      "cell_type": "markdown",
      "metadata": {
        "id": "bDzdizZJmgD4"
      },
      "source": [
        "## 4. Evaluate the two models on the same test set using the following metrics: areaUnderROC and areaUnderPR"
      ]
    },
    {
      "cell_type": "code",
      "execution_count": null,
      "metadata": {
        "id": "qoCVUiwWmiL_"
      },
      "outputs": [],
      "source": []
    },
    {
      "cell_type": "code",
      "execution_count": null,
      "metadata": {
        "id": "xGX5hk0CqhzD"
      },
      "outputs": [],
      "source": []
    },
    {
      "cell_type": "markdown",
      "metadata": {
        "id": "RJesU8qumiwu"
      },
      "source": [
        "##5. Chain the above steps into a single pipeline"
      ]
    },
    {
      "cell_type": "code",
      "execution_count": null,
      "metadata": {
        "id": "A9PIlUkzqnU-"
      },
      "outputs": [],
      "source": []
    },
    {
      "cell_type": "markdown",
      "metadata": {
        "id": "2bV0K58Gqs7c"
      },
      "source": [
        "# Exercise 5: Clustering"
      ]
    },
    {
      "cell_type": "markdown",
      "metadata": {
        "id": "5CODuRchsbwl"
      },
      "source": [
        "##0. Load the data file: iris.csv\n",
        "\n",
        "*   The data represents a collection of iris plant species.\n",
        "*   There are 150 examples, each of which has 4 attributes and it is categorized into one of the three classes.  "
      ]
    },
    {
      "cell_type": "code",
      "execution_count": null,
      "metadata": {
        "id": "mm4cg-1HqtKl"
      },
      "outputs": [],
      "source": [
        "!git clone https://github.com/nnthaofit/CSC14118.git"
      ]
    },
    {
      "cell_type": "code",
      "execution_count": null,
      "metadata": {
        "id": "DO3rndauw_UG"
      },
      "outputs": [],
      "source": [
        "df = spark.read.csv(\"CSC14118/iris.csv\", header = True, inferSchema = True) "
      ]
    },
    {
      "cell_type": "markdown",
      "metadata": {
        "id": "gi65_pscs4Za"
      },
      "source": [
        "## 1.\tCluster the data by using Spark MLlib KMeans with k = 2, 3, and 5, using Euclidean distance and cosine distance"
      ]
    },
    {
      "cell_type": "code",
      "execution_count": null,
      "metadata": {
        "id": "yERy2dQhs3ny"
      },
      "outputs": [],
      "source": []
    },
    {
      "cell_type": "code",
      "execution_count": null,
      "metadata": {
        "id": "mNUbSJ12vKR2"
      },
      "outputs": [],
      "source": []
    },
    {
      "cell_type": "markdown",
      "metadata": {
        "id": "DvEt8s3ftlpp"
      },
      "source": [
        "## 2. Evaluate each of the above clustering results using silhoutte score. \n",
        "\n",
        "1.   List item\n",
        "2.   List item\n",
        "\n",
        "Which configuration yeilds the best clustering?"
      ]
    },
    {
      "cell_type": "code",
      "execution_count": null,
      "metadata": {
        "id": "ztUBlUo4vNnk"
      },
      "outputs": [],
      "source": []
    },
    {
      "cell_type": "markdown",
      "metadata": {
        "id": "WD1REuMMzCv1"
      },
      "source": [
        "##3. Chain the above steps into a single pipeline"
      ]
    },
    {
      "cell_type": "code",
      "execution_count": null,
      "metadata": {
        "id": "EFcNOyXczG3W"
      },
      "outputs": [],
      "source": []
    },
    {
      "cell_type": "markdown",
      "metadata": {
        "id": "4nbr9LCmqnqs"
      },
      "source": [
        "## 4. For each clustering result obtained above, count the number of examples that belong to each of the three species. "
      ]
    },
    {
      "cell_type": "code",
      "execution_count": null,
      "metadata": {
        "id": "LRrlfAfDtTxw"
      },
      "outputs": [],
      "source": []
    },
    {
      "cell_type": "markdown",
      "metadata": {
        "id": "H7yOZSetvUBl"
      },
      "source": [
        "# Exercise 6: Network manipulation with Spark GraphFrames"
      ]
    },
    {
      "cell_type": "markdown",
      "metadata": {
        "id": "RrP0kQogwzbZ"
      },
      "source": [
        "##0. Load the data files: users.txt and followers.txt"
      ]
    },
    {
      "cell_type": "code",
      "execution_count": null,
      "metadata": {
        "id": "nFGw_RhPw8Xt"
      },
      "outputs": [],
      "source": [
        "!git clone https://github.com/nnthaofit/CSC14118.git"
      ]
    },
    {
      "cell_type": "code",
      "execution_count": null,
      "metadata": {
        "id": "64SSjem5xE91"
      },
      "outputs": [],
      "source": []
    },
    {
      "cell_type": "markdown",
      "metadata": {
        "id": "BKwYijdmwCOa"
      },
      "source": [
        "##1.\tConstruct a graph from the given data to demonstrate a tiny social network\n"
      ]
    },
    {
      "cell_type": "code",
      "execution_count": null,
      "metadata": {
        "id": "bNsROeTQvUVE"
      },
      "outputs": [],
      "source": []
    },
    {
      "cell_type": "markdown",
      "metadata": {
        "id": "BEsvLBaHvUdK"
      },
      "source": [
        "##2.\tApply Graphs graphPageRank to the network to obtain a ranking list of users in terms of followers"
      ]
    },
    {
      "cell_type": "code",
      "execution_count": null,
      "metadata": {
        "id": "bcDmK-3BvUjQ"
      },
      "outputs": [],
      "source": []
    },
    {
      "cell_type": "markdown",
      "metadata": {
        "id": "KpijszupvU0Z"
      },
      "source": [
        "##3. Find connected components on the graph, using Graphs connectedComponents or stronglyConnectedComponents"
      ]
    },
    {
      "cell_type": "code",
      "execution_count": null,
      "metadata": {
        "id": "2pegb3QOvU5w"
      },
      "outputs": [],
      "source": []
    }
  ],
  "metadata": {
    "colab": {
      "provenance": [],
      "include_colab_link": true
    },
    "kernelspec": {
      "display_name": "Python 3",
      "name": "python3"
    },
    "language_info": {
      "name": "python"
    }
  },
  "nbformat": 4,
  "nbformat_minor": 0
}